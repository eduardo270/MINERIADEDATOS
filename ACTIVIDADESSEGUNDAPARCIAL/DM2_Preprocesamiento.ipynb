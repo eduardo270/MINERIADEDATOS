{
  "nbformat": 4,
  "nbformat_minor": 0,
  "metadata": {
    "colab": {
      "name": "DM2.Preprocesamiento.ipynb",
      "provenance": [],
      "collapsed_sections": []
    },
    "kernelspec": {
      "name": "python3",
      "display_name": "Python 3"
    }
  },
  "cells": [
    {
      "cell_type": "markdown",
      "source": [
        "# Preprocesamiento Mineria de Datos\n",
        "\n",
        "\n",
        "*   Estudiante: Inca Cruz Carlos Eduardo"
      ],
      "metadata": {
        "id": "gakrwyZmvo8_"
      }
    },
    {
      "cell_type": "markdown",
      "metadata": {
        "id": "Y_oe_H-ySmb7"
      },
      "source": [
        "# Setting up PySpark 3.0 on Google Colab"
      ]
    },
    {
      "cell_type": "code",
      "metadata": {
        "id": "VEM-_g16T68c"
      },
      "source": [
        "#get package\n",
        "!wget https://downloads.apache.org/spark/spark-3.2.0/spark-3.2.0-bin-hadoop2.7.tgz\n",
        "!tar -xvzf spark-3.2.0-bin-hadoop2.7.tgz\n",
        "!pip install findspark\n",
        "#env vars\n",
        "import os\n",
        "os.environ[\"SPARK_HOME\"] = \"/content/spark-3.2.0-bin-hadoop2.7\"\n",
        "#start spark\n",
        "import findspark\n",
        "findspark.init()\n",
        "#import spark session\n",
        "from pyspark.sql import SparkSession\n",
        "#build app\n",
        "spark = SparkSession.builder.appName(\"PySpark\").getOrCreate()\n",
        "print(spark.sparkContext.appName)\n",
        "#create sparkcontext\n",
        "sc=spark.sparkContext\n",
        "#clear output\n",
        "from google.colab import output\n",
        "output.clear()"
      ],
      "execution_count": 1,
      "outputs": []
    },
    {
      "cell_type": "markdown",
      "source": [
        "1. Similitud de Cosenos"
      ],
      "metadata": {
        "id": "JVmwZawdMlbw"
      }
    },
    {
      "cell_type": "code",
      "source": [
        "import numpy as np\n",
        "from numpy import dot\n",
        "from numpy.linalg import norm\n",
        "def DistanciaCoseno(List1,List2):\n",
        "    return dot(List1, List2)/(norm(List1)*norm(List2))\n"
      ],
      "metadata": {
        "id": "iMeFnQABegEH"
      },
      "execution_count": null,
      "outputs": []
    },
    {
      "cell_type": "code",
      "source": [
        "# Inicializamos el RDD\n",
        "numPointsRDD = sc.parallelize([[0.3, 0.8,0.5,0.2],[0.4, 0.4,0.5,0.2],[0.6, 0.1,0.9,0.2]])\n",
        "# Obtenemos el producto cartesiano\n",
        "rdd=numPointsRDD.cartesian(numPointsRDD)\n",
        "# Obtenemos la distancia coseno para cada par de puntos\n",
        "distRDD = rdd.map(lambda x: (x[0],x[1],str(DistanciaCoseno(x[0],x[1]))))\n",
        "# Mostramos resultados\n",
        "distRDD.toDF([\"Punto 1\",\"Punto 2\",\"Distancia Coseno\"]).show()\n",
        "statRDD = distRDD.map(lambda x: float(x[2]))\n",
        "\n",
        "minv, maxv, meanv = statRDD.min(), statRDD.max(), statRDD.mean()\n",
        "print (\"min:\",minv,\",max: \", maxv,\",mean: \", meanv)"
      ],
      "metadata": {
        "colab": {
          "base_uri": "https://localhost:8080/"
        },
        "id": "tK0SVxFNM8Zy",
        "outputId": "25791c2c-1e28-489e-f22b-29f035ec5c91"
      },
      "execution_count": null,
      "outputs": [
        {
          "output_type": "stream",
          "name": "stdout",
          "text": [
            "+--------------------+--------------------+------------------+\n",
            "|             Punto 1|             Punto 2|  Distancia Coseno|\n",
            "+--------------------+--------------------+------------------+\n",
            "|[0.3, 0.8, 0.5, 0.2]|[0.3, 0.8, 0.5, 0.2]|               1.0|\n",
            "|[0.3, 0.8, 0.5, 0.2]|[0.4, 0.4, 0.5, 0.2]|0.9254604351544817|\n",
            "|[0.3, 0.8, 0.5, 0.2]|[0.6, 0.1, 0.9, 0.2]|0.6723280987166992|\n",
            "|[0.4, 0.4, 0.5, 0.2]|[0.3, 0.8, 0.5, 0.2]|0.9254604351544817|\n",
            "|[0.6, 0.1, 0.9, 0.2]|[0.3, 0.8, 0.5, 0.2]|0.6723280987166992|\n",
            "|[0.4, 0.4, 0.5, 0.2]|[0.4, 0.4, 0.5, 0.2]|               1.0|\n",
            "|[0.4, 0.4, 0.5, 0.2]|[0.6, 0.1, 0.9, 0.2]|0.8925774123174453|\n",
            "|[0.6, 0.1, 0.9, 0.2]|[0.4, 0.4, 0.5, 0.2]|0.8925774123174453|\n",
            "|[0.6, 0.1, 0.9, 0.2]|[0.6, 0.1, 0.9, 0.2]|               1.0|\n",
            "+--------------------+--------------------+------------------+\n",
            "\n",
            "min: 0.6723280987166992 ,max:  1.0 ,mean:  0.8867479880419169\n"
          ]
        }
      ]
    },
    {
      "cell_type": "markdown",
      "source": [
        "Binarizacion"
      ],
      "metadata": {
        "id": "sWFILt-cZAsu"
      }
    },
    {
      "cell_type": "code",
      "source": [
        "import numpy as np\n",
        "# Crear rdd categorico\n",
        "catPointsRDD = sc.parallelize(enumerate([['alto', 'caro', 'azul'],\n",
        "                             ['medio', 'caro', 'verde'],\n",
        "                             ['alto', 'barato', 'azul'],\n",
        "                             ['medio', 'caro', 'vermelho'],\n",
        "                             ['baixo', 'barato', 'verde'],\n",
        "                            ]))\n",
        "# obtener claves unicas\n",
        "clavesRDD = (catPointsRDD\n",
        "             .flatMap(lambda x: [((x[0],xi),1) for xi in x[1]])\n",
        "             .reduceByKey(lambda x,y: x)\n",
        "             .map(lambda x: x[0])\n",
        "             )\n",
        "\n",
        "claves = dict((v,k) for k,v in clavesRDD.collect())\n",
        "nclaves = len(claves)\n",
        "print (claves, nclaves)\n",
        "def CreateNP(atributos,claves):  \n",
        "    #Binarizar utilizando diccionario de claves\n",
        "    \n",
        "    array = np.zeros(len(claves))\n",
        "    for atr in atributos:\n",
        "        array[ claves[atr] ] = 1\n",
        "    return array\n",
        "\n",
        "# Converte o RDD para o formato binário, utilizando o dict chaves\n",
        "binRDD = catPointsRDD.map(lambda rec: (rec[0],CreateNP(rec[1], claves)))\n",
        "binRDD.collect()"
      ],
      "metadata": {
        "colab": {
          "base_uri": "https://localhost:8080/"
        },
        "id": "8fcumYvQs2da",
        "outputId": "e1a83d7b-e6ab-42f3-fde2-35ab8e339429"
      },
      "execution_count": 4,
      "outputs": [
        {
          "output_type": "stream",
          "name": "stdout",
          "text": [
            "{'alto': 2, 'caro': 0, 'baixo': 4, 'verde': 1, 'azul': 2, 'medio': 3, 'barato': 4, 'vermelho': 3} 8\n"
          ]
        },
        {
          "output_type": "execute_result",
          "data": {
            "text/plain": [
              "[(0, array([1., 0., 1., 0., 0., 0., 0., 0.])),\n",
              " (1, array([1., 1., 0., 1., 0., 0., 0., 0.])),\n",
              " (2, array([0., 0., 1., 0., 1., 0., 0., 0.])),\n",
              " (3, array([1., 0., 0., 1., 0., 0., 0., 0.])),\n",
              " (4, array([0., 1., 0., 0., 1., 0., 0., 0.]))]"
            ]
          },
          "metadata": {},
          "execution_count": 4
        }
      ]
    },
    {
      "cell_type": "markdown",
      "source": [
        "2.Normalizacion"
      ],
      "metadata": {
        "id": "dDFZRQsGbknG"
      }
    },
    {
      "cell_type": "code",
      "source": [
        "import math\n",
        "def nor(x):\n",
        "    cociente=math.sqrt(sum([i**2 for i in x]))\n",
        "    return [i/cociente for i in x]\n",
        "\n"
      ],
      "metadata": {
        "id": "IPYg0GEXibM1"
      },
      "execution_count": null,
      "outputs": []
    },
    {
      "cell_type": "code",
      "source": [
        "numPointsRDD = sc.parallelize([[0.37454012, 0.95071431,7,77,0.73199394, 0.59865848,22,-222,0.73199394, 0.59865848,22,-222],[0.37454012, 0.95071431,7,77,0.73199394, 0.59865848,22,-222,0.73199394, 0.59865848,22,-222]])\n",
        "distRDD = numPointsRDD.map(lambda x: (x,nor(x)))\n",
        "print(distRDD.collect())\n",
        "#Mostrar Dataset\n",
        "distRDD.toDF([\"Punto\",\"Punto Normalizado\"]).show()"
      ],
      "metadata": {
        "colab": {
          "base_uri": "https://localhost:8080/"
        },
        "id": "hqQZf1BcHY14",
        "outputId": "c6cc93ca-2039-44f3-a1dd-2b45ed5f5bc4"
      },
      "execution_count": null,
      "outputs": [
        {
          "output_type": "stream",
          "name": "stdout",
          "text": [
            "[([0.37454012, 0.95071431, 7, 77, 0.73199394, 0.59865848, 22, -222, 0.73199394, 0.59865848, 22, -222], [0.0011530216774382237, 0.0029267737952364714, 0.021549498467794494, 0.23704448314573945, 0.002253443184066408, 0.0018429699996417401, 0.06772699518449699, -0.6834269514071969, 0.002253443184066408, 0.0018429699996417401, 0.06772699518449699, -0.6834269514071969]), ([0.37454012, 0.95071431, 7, 77, 0.73199394, 0.59865848, 22, -222, 0.73199394, 0.59865848, 22, -222], [0.0011530216774382237, 0.0029267737952364714, 0.021549498467794494, 0.23704448314573945, 0.002253443184066408, 0.0018429699996417401, 0.06772699518449699, -0.6834269514071969, 0.002253443184066408, 0.0018429699996417401, 0.06772699518449699, -0.6834269514071969])]\n",
            "+--------------------+--------------------+\n",
            "|               Punto|   Punto Normalizado|\n",
            "+--------------------+--------------------+\n",
            "|[0.37454012, 0.95...|[0.00115302167743...|\n",
            "|[0.37454012, 0.95...|[0.00115302167743...|\n",
            "+--------------------+--------------------+\n",
            "\n"
          ]
        }
      ]
    },
    {
      "cell_type": "markdown",
      "source": [
        "3.N-grams"
      ],
      "metadata": {
        "id": "95yo8d2MrPBA"
      }
    },
    {
      "cell_type": "code",
      "source": [
        "#Codigo en python\n",
        "def obtenNGramas(sentence, n):\n",
        "    l1=[x for x in sentence.split(\" \")]\n",
        "    return [[x for x in sentence.split(\" \")][i:i+3] for i in range(len([x for x in sentence.split(\" \")])-(3-1))]\n",
        "# Prueba\n",
        "listaPalabras='this is a foo bar sentences and i want to ngramize it'\n",
        "obtenNGramas(listaPalabras, 3)"
      ],
      "metadata": {
        "colab": {
          "base_uri": "https://localhost:8080/"
        },
        "id": "li9n84vRrlu-",
        "outputId": "6874c25d-0722-4139-bb6e-52f9114f9297"
      },
      "execution_count": 9,
      "outputs": [
        {
          "output_type": "execute_result",
          "data": {
            "text/plain": [
              "[['this', 'is', 'a'],\n",
              " ['is', 'a', 'foo'],\n",
              " ['a', 'foo', 'bar'],\n",
              " ['foo', 'bar', 'sentences'],\n",
              " ['bar', 'sentences', 'and'],\n",
              " ['sentences', 'and', 'i'],\n",
              " ['and', 'i', 'want'],\n",
              " ['i', 'want', 'to'],\n",
              " ['want', 'to', 'ngramize'],\n",
              " ['to', 'ngramize', 'it']]"
            ]
          },
          "metadata": {},
          "execution_count": 9
        }
      ]
    },
    {
      "cell_type": "code",
      "source": [
        "dataRDD=sc.parallelize(['this is a foo bar sentences and i want to ngramize it','this is a foo bar sentences and i want to ngramize it','this is a foo bar sentences and i want to ngramize it'],8)\n",
        "dataRDD2 = dataRDD.map(lambda x: (x,str(obtenNGramas(x,3))))\n",
        "print(dataRDD2.collect())\n"
      ],
      "metadata": {
        "colab": {
          "base_uri": "https://localhost:8080/"
        },
        "outputId": "b10e7f68-63e3-4619-a468-8cbdd0ab78ef",
        "id": "I-y6XzkkukRq"
      },
      "execution_count": null,
      "outputs": [
        {
          "output_type": "stream",
          "name": "stdout",
          "text": [
            "[('this is a foo bar sentences and i want to ngramize it', \"[['this', 'is', 'a'], ['is', 'a', 'foo'], ['a', 'foo', 'bar'], ['foo', 'bar', 'sentences'], ['bar', 'sentences', 'and'], ['sentences', 'and', 'i'], ['and', 'i', 'want'], ['i', 'want', 'to'], ['want', 'to', 'ngramize'], ['to', 'ngramize', 'it']]\"), ('this is a foo bar sentences and i want to ngramize it', \"[['this', 'is', 'a'], ['is', 'a', 'foo'], ['a', 'foo', 'bar'], ['foo', 'bar', 'sentences'], ['bar', 'sentences', 'and'], ['sentences', 'and', 'i'], ['and', 'i', 'want'], ['i', 'want', 'to'], ['want', 'to', 'ngramize'], ['to', 'ngramize', 'it']]\"), ('this is a foo bar sentences and i want to ngramize it', \"[['this', 'is', 'a'], ['is', 'a', 'foo'], ['a', 'foo', 'bar'], ['foo', 'bar', 'sentences'], ['bar', 'sentences', 'and'], ['sentences', 'and', 'i'], ['and', 'i', 'want'], ['i', 'want', 'to'], ['want', 'to', 'ngramize'], ['to', 'ngramize', 'it']]\")]\n"
          ]
        }
      ]
    },
    {
      "cell_type": "markdown",
      "source": [
        "4.Escalonamiento"
      ],
      "metadata": {
        "id": "HQzxidzRJzIK"
      }
    },
    {
      "cell_type": "code",
      "source": [
        "def Escalonamiento(x):\n",
        "    return [(i-min(x))/(max(x)-min(x)) for i in x]\n",
        "\n",
        "print(Escalonamiento([10,11,12]))\n",
        "#scale xi = (xi - minimum x) / (maximum x - minimum x)\n",
        "\n",
        "dataRDD=sc.parallelize([[1,2,3],[4,5,6],[7,8,9],[10,11,12]],2)\n",
        "dataRDD2 = dataRDD.map(lambda x: (str(x),str(Escalonamiento(x))))\n",
        "print(dataRDD2.collect())\n",
        "#Mostrar Dataset\n",
        "dataRDD2.toDF([\"Punto\",\"Punto Escalonado\"]).show()"
      ],
      "metadata": {
        "colab": {
          "base_uri": "https://localhost:8080/"
        },
        "id": "8pVzBKvKJx-K",
        "outputId": "cc4b736a-1619-4611-81b1-cdfda1df9332"
      },
      "execution_count": null,
      "outputs": [
        {
          "output_type": "stream",
          "name": "stdout",
          "text": [
            "[0.0, 0.5, 1.0]\n",
            "[('[1, 2, 3]', '[0.0, 0.5, 1.0]'), ('[4, 5, 6]', '[0.0, 0.5, 1.0]'), ('[7, 8, 9]', '[0.0, 0.5, 1.0]'), ('[10, 11, 12]', '[0.0, 0.5, 1.0]')]\n",
            "+------------+----------------+\n",
            "|       Punto|Punto Escalonado|\n",
            "+------------+----------------+\n",
            "|   [1, 2, 3]| [0.0, 0.5, 1.0]|\n",
            "|   [4, 5, 6]| [0.0, 0.5, 1.0]|\n",
            "|   [7, 8, 9]| [0.0, 0.5, 1.0]|\n",
            "|[10, 11, 12]| [0.0, 0.5, 1.0]|\n",
            "+------------+----------------+\n",
            "\n"
          ]
        }
      ]
    },
    {
      "cell_type": "code",
      "source": [
        "def Escalonamiento(x):\n",
        "    return [(i-min(x))/(max(x)-min(x)) for i in x]\n",
        "\n",
        "print(Escalonamiento([10,11,12]))\n",
        "#scale xi = (xi - minimum x) / (maximum x - minimum x)\n",
        "\n",
        "dataRDD=sc.parallelize([[1,2,3],[4,5,6],[7,8,9],[10,11,12],[1,2,3],[4,5,6],[7,8,9],[10,11,12],[1,2,3],[4,5,6],[7,8,9],[10,11,12],[1,2,3],[4,5,6],[7,8,9],[10,11,12]],2)\n",
        "dataRDD2 = dataRDD.map(lambda x: (str(x),str(Escalonamiento(x))))\n",
        "print(dataRDD2.collect())\n",
        "#Mostrar Dataset\n",
        "dataRDD2.toDF([\"Punto\",\"Punto Escalonado\"]).show()"
      ],
      "metadata": {
        "colab": {
          "base_uri": "https://localhost:8080/"
        },
        "outputId": "fa0cd018-057b-4001-b26b-0dabca05338b",
        "id": "kPR7j5kAtyoR"
      },
      "execution_count": 5,
      "outputs": [
        {
          "output_type": "stream",
          "name": "stdout",
          "text": [
            "[0.0, 0.5, 1.0]\n",
            "[('[1, 2, 3]', '[0.0, 0.5, 1.0]'), ('[4, 5, 6]', '[0.0, 0.5, 1.0]'), ('[7, 8, 9]', '[0.0, 0.5, 1.0]'), ('[10, 11, 12]', '[0.0, 0.5, 1.0]'), ('[1, 2, 3]', '[0.0, 0.5, 1.0]'), ('[4, 5, 6]', '[0.0, 0.5, 1.0]'), ('[7, 8, 9]', '[0.0, 0.5, 1.0]'), ('[10, 11, 12]', '[0.0, 0.5, 1.0]'), ('[1, 2, 3]', '[0.0, 0.5, 1.0]'), ('[4, 5, 6]', '[0.0, 0.5, 1.0]'), ('[7, 8, 9]', '[0.0, 0.5, 1.0]'), ('[10, 11, 12]', '[0.0, 0.5, 1.0]'), ('[1, 2, 3]', '[0.0, 0.5, 1.0]'), ('[4, 5, 6]', '[0.0, 0.5, 1.0]'), ('[7, 8, 9]', '[0.0, 0.5, 1.0]'), ('[10, 11, 12]', '[0.0, 0.5, 1.0]')]\n",
            "+------------+----------------+\n",
            "|       Punto|Punto Escalonado|\n",
            "+------------+----------------+\n",
            "|   [1, 2, 3]| [0.0, 0.5, 1.0]|\n",
            "|   [4, 5, 6]| [0.0, 0.5, 1.0]|\n",
            "|   [7, 8, 9]| [0.0, 0.5, 1.0]|\n",
            "|[10, 11, 12]| [0.0, 0.5, 1.0]|\n",
            "|   [1, 2, 3]| [0.0, 0.5, 1.0]|\n",
            "|   [4, 5, 6]| [0.0, 0.5, 1.0]|\n",
            "|   [7, 8, 9]| [0.0, 0.5, 1.0]|\n",
            "|[10, 11, 12]| [0.0, 0.5, 1.0]|\n",
            "|   [1, 2, 3]| [0.0, 0.5, 1.0]|\n",
            "|   [4, 5, 6]| [0.0, 0.5, 1.0]|\n",
            "|   [7, 8, 9]| [0.0, 0.5, 1.0]|\n",
            "|[10, 11, 12]| [0.0, 0.5, 1.0]|\n",
            "|   [1, 2, 3]| [0.0, 0.5, 1.0]|\n",
            "|   [4, 5, 6]| [0.0, 0.5, 1.0]|\n",
            "|   [7, 8, 9]| [0.0, 0.5, 1.0]|\n",
            "|[10, 11, 12]| [0.0, 0.5, 1.0]|\n",
            "+------------+----------------+\n",
            "\n"
          ]
        }
      ]
    },
    {
      "cell_type": "markdown",
      "source": [
        "5. Estandarizacion"
      ],
      "metadata": {
        "id": "pulLoIoyNJQ4"
      }
    },
    {
      "cell_type": "code",
      "source": [
        "import statistics as stats\n",
        "def Estandarizacion(x):\n",
        "    return [(i-(sum(x)/len(x)))/(stats.variance(x)) for i in x]\n",
        "\n",
        "print(Estandarizacion([10,11,12]))\n",
        "#scale xi = (xi - minimum x) / (maximum x - minimum x)\n",
        "\n",
        "dataRDD=sc.parallelize([[1,2,3],[4,5,6],[7,8,9],[10,11,12]],2)\n",
        "dataRDD2 = dataRDD.map(lambda x: (str(x),str(Estandarizacion(x))))\n",
        "print(dataRDD2.collect())\n",
        "dataRDD2.toDF([\"Punto\",\"Punto Estandarizado\"]).show()"
      ],
      "metadata": {
        "colab": {
          "base_uri": "https://localhost:8080/"
        },
        "id": "KLf5vtDhNJbF",
        "outputId": "956fdaf0-5d63-4c35-939d-41e215bd402d"
      },
      "execution_count": null,
      "outputs": [
        {
          "output_type": "stream",
          "name": "stdout",
          "text": [
            "[-1.0, 0.0, 1.0]\n",
            "[('[1, 2, 3]', '[-1.0, 0.0, 1.0]'), ('[4, 5, 6]', '[-1.0, 0.0, 1.0]'), ('[7, 8, 9]', '[-1.0, 0.0, 1.0]'), ('[10, 11, 12]', '[-1.0, 0.0, 1.0]')]\n",
            "+------------+----------------+\n",
            "|       Punto|Punto Escalonado|\n",
            "+------------+----------------+\n",
            "|   [1, 2, 3]|[-1.0, 0.0, 1.0]|\n",
            "|   [4, 5, 6]|[-1.0, 0.0, 1.0]|\n",
            "|   [7, 8, 9]|[-1.0, 0.0, 1.0]|\n",
            "|[10, 11, 12]|[-1.0, 0.0, 1.0]|\n",
            "+------------+----------------+\n",
            "\n"
          ]
        }
      ]
    },
    {
      "cell_type": "code",
      "source": [
        "import statistics as stats\n",
        "def Estandarizacion(x):\n",
        "    return [(i-(sum(x)/len(x)))/(stats.variance(x)) for i in x]\n",
        "\n",
        "print(Estandarizacion([10,11,12]))\n",
        "#scale xi = (xi - minimum x) / (maximum x - minimum x)\n",
        "\n",
        "dataRDD=sc.parallelize([[1,2,3],[4,5,6],[7,8,9],[10,11,12],[1,2,3],[4,5,6],[7,8,9],[10,11,12],[1,2,3],[4,5,6],[7,8,9],[10,11,12],[1,2,3],[4,5,6],[7,8,9],[10,11,12]],2)\n",
        "\n",
        "dataRDD2 = dataRDD.map(lambda x: (str(x),str(Estandarizacion(x))))\n",
        "print(dataRDD2.collect())\n",
        "dataRDD2.toDF([\"Punto\",\"Punto Estandarizado\"]).show()\n"
      ],
      "metadata": {
        "colab": {
          "base_uri": "https://localhost:8080/"
        },
        "id": "9VgtHCTHt9K6",
        "outputId": "a3853ee1-4190-4fd0-9ef0-c815dde47879"
      },
      "execution_count": 6,
      "outputs": [
        {
          "output_type": "stream",
          "name": "stdout",
          "text": [
            "[-1.0, 0.0, 1.0]\n",
            "[('[1, 2, 3]', '[-1.0, 0.0, 1.0]'), ('[4, 5, 6]', '[-1.0, 0.0, 1.0]'), ('[7, 8, 9]', '[-1.0, 0.0, 1.0]'), ('[10, 11, 12]', '[-1.0, 0.0, 1.0]'), ('[1, 2, 3]', '[-1.0, 0.0, 1.0]'), ('[4, 5, 6]', '[-1.0, 0.0, 1.0]'), ('[7, 8, 9]', '[-1.0, 0.0, 1.0]'), ('[10, 11, 12]', '[-1.0, 0.0, 1.0]'), ('[1, 2, 3]', '[-1.0, 0.0, 1.0]'), ('[4, 5, 6]', '[-1.0, 0.0, 1.0]'), ('[7, 8, 9]', '[-1.0, 0.0, 1.0]'), ('[10, 11, 12]', '[-1.0, 0.0, 1.0]'), ('[1, 2, 3]', '[-1.0, 0.0, 1.0]'), ('[4, 5, 6]', '[-1.0, 0.0, 1.0]'), ('[7, 8, 9]', '[-1.0, 0.0, 1.0]'), ('[10, 11, 12]', '[-1.0, 0.0, 1.0]')]\n",
            "+------------+-------------------+\n",
            "|       Punto|Punto Estandarizado|\n",
            "+------------+-------------------+\n",
            "|   [1, 2, 3]|   [-1.0, 0.0, 1.0]|\n",
            "|   [4, 5, 6]|   [-1.0, 0.0, 1.0]|\n",
            "|   [7, 8, 9]|   [-1.0, 0.0, 1.0]|\n",
            "|[10, 11, 12]|   [-1.0, 0.0, 1.0]|\n",
            "|   [1, 2, 3]|   [-1.0, 0.0, 1.0]|\n",
            "|   [4, 5, 6]|   [-1.0, 0.0, 1.0]|\n",
            "|   [7, 8, 9]|   [-1.0, 0.0, 1.0]|\n",
            "|[10, 11, 12]|   [-1.0, 0.0, 1.0]|\n",
            "|   [1, 2, 3]|   [-1.0, 0.0, 1.0]|\n",
            "|   [4, 5, 6]|   [-1.0, 0.0, 1.0]|\n",
            "|   [7, 8, 9]|   [-1.0, 0.0, 1.0]|\n",
            "|[10, 11, 12]|   [-1.0, 0.0, 1.0]|\n",
            "|   [1, 2, 3]|   [-1.0, 0.0, 1.0]|\n",
            "|   [4, 5, 6]|   [-1.0, 0.0, 1.0]|\n",
            "|   [7, 8, 9]|   [-1.0, 0.0, 1.0]|\n",
            "|[10, 11, 12]|   [-1.0, 0.0, 1.0]|\n",
            "+------------+-------------------+\n",
            "\n"
          ]
        }
      ]
    }
  ]
}