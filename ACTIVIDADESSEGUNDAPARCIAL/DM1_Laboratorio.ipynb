{
  "nbformat": 4,
  "nbformat_minor": 0,
  "metadata": {
    "colab": {
      "name": "DM1.Laboratorio.ipynb",
      "provenance": [],
      "collapsed_sections": []
    },
    "kernelspec": {
      "name": "python3",
      "display_name": "Python 3"
    }
  },
  "cells": [
    {
      "cell_type": "markdown",
      "source": [
        "# Laboratorio 1 Mineria de Datos\n",
        "\n",
        "\n",
        "*   Estudiante: Inca Cruz Carlos Eduardo"
      ],
      "metadata": {
        "id": "g1ibhS7HlRGP"
      }
    },
    {
      "cell_type": "markdown",
      "metadata": {
        "id": "Y_oe_H-ySmb7"
      },
      "source": [
        "# Setting up PySpark 3.0 on Google Colab"
      ]
    },
    {
      "cell_type": "code",
      "metadata": {
        "id": "VEM-_g16T68c"
      },
      "source": [
        "#get package\n",
        "!wget https://downloads.apache.org/spark/spark-3.2.0/spark-3.2.0-bin-hadoop2.7.tgz\n",
        "!tar -xvzf spark-3.2.0-bin-hadoop2.7.tgz\n",
        "!pip install findspark\n",
        "#env vars\n",
        "import os\n",
        "os.environ[\"SPARK_HOME\"] = \"/content/spark-3.2.0-bin-hadoop2.7\"\n",
        "#start spark\n",
        "import findspark\n",
        "findspark.init()\n",
        "#import spark session\n",
        "from pyspark.sql import SparkSession\n",
        "#build app\n",
        "spark = SparkSession.builder.appName(\"PySpark\").getOrCreate()\n",
        "print(spark.sparkContext.appName)\n",
        "#create sparkcontext\n",
        "sc=spark.sparkContext\n",
        "#clear output\n",
        "from google.colab import output\n",
        "output.clear()"
      ],
      "execution_count": null,
      "outputs": []
    },
    {
      "cell_type": "markdown",
      "metadata": {
        "id": "q9OzL7IcIT8B"
      },
      "source": [
        "![CMCC](https://scontent.fcuz1-1.fna.fbcdn.net/v/t1.6435-9/169999414_134997141968151_5389622841264143457_n.jpg?_nc_cat=100&ccb=1-5&_nc_sid=09cbfe&_nc_eui2=AeGYHrPMueJlavl7eDql2QOI2St2L7MLFHTZK3YvswsUdPzk3Ovp__UvRhUQlcFyH2o&_nc_ohc=KZJCq4jFuhMAX9h5HUI&_nc_ht=scontent.fcuz1-1.fna&oh=00_AT_sGFdClC9xMtR4S8p-ilZYOR4ycFv1uCTqoKj-frAi8g&oe=61F5FE4C)\n",
        "# **Spark + Python = PySpark**\n",
        "\n",
        "#### Este notebook presenta los conceptos básicos de Spark a través de su interfaz de lenguaje Python. Como aplicación inicial usaremos el ejemplo clásico del contador de palabras. Con este ejemplo, puede comprender la lógica de programación funcional para las diversas tareas de exploración de datos distribuidos.\n",
        "\n",
        "#### Para esto usaremos el libro de texto [Obras completas de William Shakespeare] (http://www.gutenberg.org/ebooks/100) obtenido del [Proyecto Gutenberg] (http://www.gutenberg.org/ wiki / Página_principal). Veremos que este mismo algoritmo se puede utilizar para textos de cualquier tamaño.\n",
        "\n",
        "#### **Este notebook contiene:**\n",
        "#### *Parte 1:* Creación de una base RDD y RDD de tupla\n",
        "#### *Parte 2:* Manejo de RDD de tuplas\n",
        "#### *Parte 3:* Encontrar palabras sueltas y calcular promedios\n",
        "#### *Parte 4:* Aplicar el recuento de palabras a un archivo\n",
        "#### *Parte 5:* Similitud entre objetos\n",
        "#### Para los ejercicios es recomendable consultar la documentación de [PySpark API](https://spark.apache.org/docs/latest/api/python/pyspark.html#pyspark.RDD)"
      ]
    },
    {
      "cell_type": "markdown",
      "metadata": {
        "id": "5kfUOYV3IT8L"
      },
      "source": [
        "### **Parte 1: Creación y manipulación de RDD**"
      ]
    },
    {
      "cell_type": "markdown",
      "metadata": {
        "id": "cklFHsroIT8M"
      },
      "source": [
        "#### En esta parte del notebook crearemos una base RDD a partir de una lista con el comando `parallelize`."
      ]
    },
    {
      "cell_type": "markdown",
      "metadata": {
        "id": "6SV8V6ZMIT8N"
      },
      "source": [
        "#### **(1a) Creando una base RDD**\n",
        "#### Podemos crear una base de datos RDD de diferentes tipos y fuente Python con el comando `sc.parallelize (fuente, particiones)`, siendo fuente una variable que contiene los datos (ej .: una lista) y particiona el número de particiones trabajar en paralelo."
      ]
    },
    {
      "cell_type": "code",
      "execution_count": null,
      "metadata": {
        "id": "B_v9hm7ZIT8P",
        "colab": {
          "base_uri": "https://localhost:8080/"
        },
        "outputId": "af6d4bb5-cffe-403b-954d-eff516336368"
      },
      "outputs": [
        {
          "output_type": "stream",
          "name": "stdout",
          "text": [
            "<class 'pyspark.rdd.RDD'>\n"
          ]
        }
      ],
      "source": [
        "ListaPalavras = ['gato', 'elefante', 'rato', 'rato', 'gato']\n",
        "palavrasRDD = sc.parallelize(ListaPalavras, 4)\n",
        "print(type(palavrasRDD))"
      ]
    },
    {
      "cell_type": "markdown",
      "metadata": {
        "id": "sCyDEVwZIT8S"
      },
      "source": [
        "#### **(1b) Plural**\n",
        "\n",
        "#### Vamos a crear una función que transforme una palabra en plural agregando una letra 's' al final de la cadena. A continuación, usemos la función `map()` para aplicar la transformación a cada palabra del RDD.\n",
        "\n",
        "#### En Python (y muchos otros lenguajes) la concatenación de cadenas es costosa. Una mejor alternativa es crear una nueva cadena usando [`str.format()`] (https://docs.python.org/2/library/string.html#format-string-syntax).\n",
        "\n",
        "#### Nota: La cadena entre los conjuntos de tres comillas representa la documentación de la función. Esta documentación se muestra con el comando `help()`. Usaremos la estandarización de documentación sugerida para Python, mantendremos esta documentación en inglés."
      ]
    },
    {
      "cell_type": "code",
      "source": [
        "# EXERCICIO\n",
        "def Plural(palavra):\n",
        "    \"\"\"Adds an 's' to `palavra`.\n",
        "\n",
        "    Args:\n",
        "        palavra (str): A string.\n",
        "\n",
        "    Returns:\n",
        "        str: A string with 's' added to it.\n",
        "    \"\"\"\n",
        "    return \"{}{}\".format(palavra,\"s\")\n",
        "\n",
        "print(Plural('gato'))"
      ],
      "metadata": {
        "colab": {
          "base_uri": "https://localhost:8080/"
        },
        "id": "NAln6WJNVf57",
        "outputId": "f4fe06e0-94be-4d17-9287-99136b09419e"
      },
      "execution_count": null,
      "outputs": [
        {
          "output_type": "stream",
          "name": "stdout",
          "text": [
            "gatos\n"
          ]
        }
      ]
    },
    {
      "cell_type": "code",
      "execution_count": null,
      "metadata": {
        "id": "PXXQBJjAIT8W",
        "colab": {
          "base_uri": "https://localhost:8080/"
        },
        "outputId": "5b927fc0-1c53-4fb8-f098-c09c443f1c1e"
      },
      "outputs": [
        {
          "output_type": "stream",
          "name": "stdout",
          "text": [
            "Help on function Plural in module __main__:\n",
            "\n",
            "Plural(palavra)\n",
            "    Adds an 's' to `palavra`.\n",
            "    \n",
            "    Args:\n",
            "        palavra (str): A string.\n",
            "    \n",
            "    Returns:\n",
            "        str: A string with 's' added to it.\n",
            "\n"
          ]
        }
      ],
      "source": [
        "help(Plural)"
      ]
    },
    {
      "cell_type": "code",
      "execution_count": null,
      "metadata": {
        "id": "Z-GzkuSbIT8X",
        "colab": {
          "base_uri": "https://localhost:8080/"
        },
        "outputId": "d2a62510-86ca-4c00-e725-594b91b32656"
      },
      "outputs": [
        {
          "output_type": "stream",
          "name": "stdout",
          "text": [
            "OK\n"
          ]
        }
      ],
      "source": [
        "assert Plural('rato')=='ratos', 'resultado incorreto!'\n",
        "print ('OK')"
      ]
    },
    {
      "cell_type": "markdown",
      "metadata": {
        "id": "J0Ks_ZghIT8Z"
      },
      "source": [
        "#### **(1c) Aplicar la función a RDD**\n",
        "#### Pluralice cada palabra de nuestro RDD usando [map()] (http://spark.apache.org/docs/latest/api/python/pyspark.html#pyspark.RDD.map)\n",
        "\n",
        "#### A continuación, usaremos el comando [collect()] (http://spark.apache.org/docs/latest/api/python/pyspark.html#pyspark.RDD.collect) que devuelve el RDD como una lista de Python."
      ]
    },
    {
      "cell_type": "code",
      "execution_count": null,
      "metadata": {
        "id": "fSM_rIZyIT8a",
        "colab": {
          "base_uri": "https://localhost:8080/"
        },
        "outputId": "428e123c-8e3d-4395-e0a4-4cf0b91d657a"
      },
      "outputs": [
        {
          "output_type": "stream",
          "name": "stdout",
          "text": [
            "['gatos', 'elefantes', 'ratos', 'ratos', 'gatos']\n"
          ]
        }
      ],
      "source": [
        "# EXERCICIO\n",
        "pluralRDD = palavrasRDD.map(Plural)\n",
        "print (pluralRDD.collect())"
      ]
    },
    {
      "cell_type": "code",
      "execution_count": null,
      "metadata": {
        "id": "2_XAaWQZIT8b",
        "colab": {
          "base_uri": "https://localhost:8080/"
        },
        "outputId": "8fac8b09-a03e-47c9-da00-46aa93433193"
      },
      "outputs": [
        {
          "output_type": "stream",
          "name": "stdout",
          "text": [
            "OK\n"
          ]
        }
      ],
      "source": [
        "assert pluralRDD.collect()==['gatos','elefantes','ratos','ratos','gatos'], 'valores incorretos!'\n",
        "print ('OK')"
      ]
    },
    {
      "cell_type": "markdown",
      "metadata": {
        "id": "AtTPStZaIT8c"
      },
      "source": [
        "#### **Nota:** use el comando `collect()` solo cuando esté seguro de que la lista cabe en la memoria. Para guardar los resultados en un archivo de texto o base de datos, usaremos otro comando."
      ]
    },
    {
      "cell_type": "markdown",
      "metadata": {
        "id": "COi5CNsNIT8d"
      },
      "source": [
        "#### **(1d) Usando una función `lambda`**\n",
        "#### Repite la creación de un RDD plural, pero usando una función lambda."
      ]
    },
    {
      "cell_type": "code",
      "execution_count": null,
      "metadata": {
        "id": "kbKZhupUIT8e",
        "colab": {
          "base_uri": "https://localhost:8080/"
        },
        "outputId": "de354807-f1d3-4fa3-bbe4-587c3fe375be"
      },
      "outputs": [
        {
          "output_type": "stream",
          "name": "stdout",
          "text": [
            "['gatos', 'elefantes', 'ratos', 'ratos', 'gatos']\n"
          ]
        }
      ],
      "source": [
        "# EXERCICIO\n",
        "pluralLambdaRDD = palavrasRDD.map(lambda palavra: \"{}{}\".format(palavra,\"s\"))\n",
        "print (pluralLambdaRDD.collect())"
      ]
    },
    {
      "cell_type": "code",
      "execution_count": null,
      "metadata": {
        "id": "D-Z3JD3AIT8f",
        "colab": {
          "base_uri": "https://localhost:8080/"
        },
        "outputId": "45a186a8-0554-4755-8447-0279e0ed56c7"
      },
      "outputs": [
        {
          "output_type": "stream",
          "name": "stdout",
          "text": [
            "OK\n"
          ]
        }
      ],
      "source": [
        "assert pluralLambdaRDD.collect()==['gatos','elefantes','ratos','ratos','gatos'], 'valores incorretos!'\n",
        "print ('OK')"
      ]
    },
    {
      "cell_type": "markdown",
      "metadata": {
        "id": "9Oby3Wx3IT8f"
      },
      "source": [
        "#### **(1e) Tamaño de cada palabra**\n",
        "#### Ahora usa `map()` y una función `lambda` para devolver el número de caracteres en cada palabra. Utilice `collect()` para almacenar el resultado como listas en la variable de destino."
      ]
    },
    {
      "cell_type": "code",
      "execution_count": null,
      "metadata": {
        "id": "OlemE_RqIT8g",
        "colab": {
          "base_uri": "https://localhost:8080/"
        },
        "outputId": "99bf27b1-89e1-4546-ba05-bb485a09e389"
      },
      "outputs": [
        {
          "output_type": "stream",
          "name": "stdout",
          "text": [
            "[5, 9, 5, 5, 5]\n"
          ]
        }
      ],
      "source": [
        "# EXERCICIO\n",
        "pluralTamanho = (pluralRDD\n",
        "                 .map(lambda palavra: len(palavra))\n",
        "                 .collect()\n",
        "                 )\n",
        "print (pluralTamanho)"
      ]
    },
    {
      "cell_type": "code",
      "execution_count": null,
      "metadata": {
        "id": "Ef5KlQzJIT8h",
        "colab": {
          "base_uri": "https://localhost:8080/"
        },
        "outputId": "72934e6a-3a6e-4f9f-9d76-f41b35943e92"
      },
      "outputs": [
        {
          "output_type": "stream",
          "name": "stdout",
          "text": [
            "OK\n"
          ]
        }
      ],
      "source": [
        "assert pluralTamanho==[5,9,5,5,5], 'valores incorretos'\n",
        "print (\"OK\")"
      ]
    },
    {
      "cell_type": "markdown",
      "metadata": {
        "id": "HuEoP0O3IT8h"
      },
      "source": [
        "#### **(1f) RDD de pares y tuplas**\n",
        "\n",
        "#### Para contar la frecuencia de cada palabra de forma distribuida, primero debemos asignar un valor a cada palabra en el RDD. Esto generará una base de datos (clave, valor). De esta forma podemos agrupar la base mediante la clave, calculando la suma de los valores asignados. En nuestro caso, asignemos el valor `1` a cada palabra.\n",
        "\n",
        "#### Un RDD que contiene la estructura de tupla clave-valor `(k, v)` se denomina RDD de tupla o * RDD de par *.\n",
        "\n",
        "#### Vamos a crear nuestro RDD a partir de pares usando la transformación `map ()` con una función `lambda ()`."
      ]
    },
    {
      "cell_type": "code",
      "execution_count": null,
      "metadata": {
        "id": "LlWdHMjSIT8i",
        "colab": {
          "base_uri": "https://localhost:8080/"
        },
        "outputId": "1c920e81-ffdf-4d55-a80c-abe046017671"
      },
      "outputs": [
        {
          "output_type": "stream",
          "name": "stdout",
          "text": [
            "[('gato', 1), ('elefante', 1), ('rato', 1), ('rato', 1), ('gato', 1)]\n"
          ]
        }
      ],
      "source": [
        "# EXERCICIO\n",
        "palavraPar = palavrasRDD.map(lambda palavra: (palavra,1))\n",
        "palavraPar\n",
        "print(palavraPar.collect())"
      ]
    },
    {
      "cell_type": "code",
      "execution_count": null,
      "metadata": {
        "id": "TaoBVhABIT8j",
        "colab": {
          "base_uri": "https://localhost:8080/"
        },
        "outputId": "6d64c236-b287-4704-93cc-1a510a75f570"
      },
      "outputs": [
        {
          "output_type": "stream",
          "name": "stdout",
          "text": [
            "OK\n"
          ]
        }
      ],
      "source": [
        "assert palavraPar.collect() == [('gato',1),('elefante',1),('rato',1),('rato',1),('gato',1)], 'valores incorretos!'\n",
        "print (\"OK\")"
      ]
    },
    {
      "cell_type": "markdown",
      "metadata": {
        "id": "l0GXeQ9_IT8j"
      },
      "source": [
        "### **Parte 2: Manipulación de Tuplas RDD**"
      ]
    },
    {
      "cell_type": "markdown",
      "metadata": {
        "id": "oqDAQknMIT8k"
      },
      "source": [
        "#### Manipulemos nuestro RDD para contar las palabras en el texto."
      ]
    },
    {
      "cell_type": "markdown",
      "metadata": {
        "id": "KZrCWLZ7IT8l"
      },
      "source": [
        "#### **(2a) Función `groupByKey ()`**\n",
        "\n",
        "#### La función [groupByKey ()] (http://spark.apache.org/docs/latest/api/python/pyspark.html#pyspark.RDD.groupByKey) agrupa todos los valores de un RDD por clave (primer elemento de la tupla) agregando los valores en una lista.\n",
        "\n",
        "#### Este enfoque tiene una debilidad porque:\n",
        "   + #### La operación requiere que los datos seccionados se muevan de forma masiva para que permanezcan en la partición correcta.\n",
        "   + #### Las listas pueden llegar a ser muy largas. Imagínese contar todas las palabras en Wikipedia: términos comunes como \"a\", \"e\" formarán una lista enorme de valores que podrían no caber en la memoria del proceso esclavo."
      ]
    },
    {
      "cell_type": "code",
      "execution_count": null,
      "metadata": {
        "id": "tnYjKzBIIT8l",
        "colab": {
          "base_uri": "https://localhost:8080/"
        },
        "outputId": "bfc84f76-bbde-4ee4-b9d0-53760d5f871e"
      },
      "outputs": [
        {
          "output_type": "stream",
          "name": "stdout",
          "text": [
            "elefante: [1]\n",
            "rato: [1, 1]\n",
            "gato: [1, 1]\n"
          ]
        }
      ],
      "source": [
        "# EXERCICIO\n",
        "palavrasGrupo = palavraPar.groupByKey()\n",
        "for chave, valor in palavrasGrupo.collect():\n",
        "    valores = list(valor)\n",
        "    print(f'{chave}: {valores}')"
      ]
    },
    {
      "cell_type": "code",
      "execution_count": null,
      "metadata": {
        "id": "RcGfZL9QIT8m",
        "colab": {
          "base_uri": "https://localhost:8080/"
        },
        "outputId": "91f836dd-4527-42b3-cce9-99f447b7bfa7"
      },
      "outputs": [
        {
          "output_type": "stream",
          "name": "stdout",
          "text": [
            "OK\n"
          ]
        }
      ],
      "source": [
        "assert sorted(palavrasGrupo.mapValues(lambda x: list(x)).collect()) == [('elefante', [1]), ('gato',[1, 1]), ('rato',[1, 1])], 'Valores incorretos!'\n",
        "print (\"OK\")"
      ]
    },
    {
      "cell_type": "markdown",
      "metadata": {
        "id": "C37dNYVfIT8m"
      },
      "source": [
        "#### **(2b) Cálculo de los recuentos**\n",
        "#### Después de `groupByKey()` nuestro RDD contiene elementos compuestos por la palabra, como clave, y un iterador que contiene todos los valores correspondientes a esa clave.\n",
        "#### Usando la transformación `map()` y la función `sum()`, construye un nuevo RDD que consta de tuplas (clave, suma)."
      ]
    },
    {
      "cell_type": "code",
      "execution_count": null,
      "metadata": {
        "id": "VSG7mE7zIT8n",
        "colab": {
          "base_uri": "https://localhost:8080/"
        },
        "outputId": "0a73761b-1ea6-4e9d-e4a3-67b2dc237b43"
      },
      "outputs": [
        {
          "output_type": "stream",
          "name": "stdout",
          "text": [
            "[('elefante', 1), ('rato', 2), ('gato', 2)]\n"
          ]
        }
      ],
      "source": [
        "# EXERCICIO\n",
        "contagemGroup = palavrasGrupo.map( lambda palabra: (palabra[0],sum(palabra[1])))\n",
        "print (contagemGroup.collect())"
      ]
    },
    {
      "cell_type": "code",
      "execution_count": null,
      "metadata": {
        "id": "azgLDPZgIT8n",
        "colab": {
          "base_uri": "https://localhost:8080/"
        },
        "outputId": "3d1fc981-7aef-4481-8c9e-0e4d27e135f0"
      },
      "outputs": [
        {
          "output_type": "stream",
          "name": "stdout",
          "text": [
            "OK\n"
          ]
        }
      ],
      "source": [
        "assert sorted(contagemGroup.collect())==[('elefante',1), ('gato',2), ('rato',2)], 'valores incorretos!'\n",
        "print (\"OK\")"
      ]
    },
    {
      "cell_type": "markdown",
      "metadata": {
        "id": "_kUO5RCwIT8o"
      },
      "source": [
        "#### **(2c) `reduceByKey`**\n",
        "#### Un comando más interesante para contar es [reduceByKey ()] (http://spark.apache.org/docs/latest/api/python/pyspark.html#pyspark.RDD.reduceByKey) que crea un nuevo RDD de tuplas.\n",
        "\n",
        "#### Esta transformación aplica la transformación `reduce()` vista en la lección anterior a los valores de cada clave. De esta manera, la función de transformación puede aplicarse a cada partición local y luego enviarse para la redistribución de la partición, reduciendo la cantidad de datos que se mueven y no manteniendo grandes listas en la memoria."
      ]
    },
    {
      "cell_type": "code",
      "execution_count": null,
      "metadata": {
        "id": "xChqfqJEIT8o",
        "colab": {
          "base_uri": "https://localhost:8080/"
        },
        "outputId": "7a47ca64-7b70-4d4c-d205-353c8b98e4d4"
      },
      "outputs": [
        {
          "output_type": "stream",
          "name": "stdout",
          "text": [
            "[('elefante', 1), ('rato', 2), ('gato', 2)]\n"
          ]
        }
      ],
      "source": [
        "#from operator import add\n",
        "# EXERCICIO\n",
        "contagem = palavraPar.reduceByKey(lambda a,b: a+b)\n",
        "print( contagem.collect())"
      ]
    },
    {
      "cell_type": "code",
      "execution_count": null,
      "metadata": {
        "id": "pKxwONLAIT8p",
        "colab": {
          "base_uri": "https://localhost:8080/"
        },
        "outputId": "6870c5c1-672a-4efa-acad-c2befbc725b1"
      },
      "outputs": [
        {
          "output_type": "stream",
          "name": "stdout",
          "text": [
            "OK\n"
          ]
        }
      ],
      "source": [
        "assert sorted(contagem.collect())==[('elefante',1), ('gato',2), ('rato',2)], 'valores incorretos!'\n",
        "print (\"OK\")"
      ]
    },
    {
      "cell_type": "markdown",
      "metadata": {
        "id": "2FFbRlPAIT8p"
      },
      "source": [
        "#### **(2d) Comandos de agrupación**\n",
        "\n",
        "#### La forma más común de realizar esta tarea, a partir de nuestras RDD RDDwords, es encadenar el mapa y los comandos reduceByKey en una línea de comando."
      ]
    },
    {
      "cell_type": "code",
      "execution_count": null,
      "metadata": {
        "id": "FyeYOroqIT8p",
        "colab": {
          "base_uri": "https://localhost:8080/"
        },
        "outputId": "76e59cef-99e6-41d1-8480-58cae68c006a"
      },
      "outputs": [
        {
          "output_type": "stream",
          "name": "stdout",
          "text": [
            "[('elefante', 1), ('rato', 2), ('gato', 2)]\n"
          ]
        }
      ],
      "source": [
        "# EXERCICIO\n",
        "contagemFinal = (palavrasRDD\n",
        "                 .map(lambda palavra: (palavra,1))\n",
        "                 .reduceByKey(lambda a,b: a+b)\n",
        "                 )\n",
        "print (contagemFinal.collect())"
      ]
    },
    {
      "cell_type": "code",
      "execution_count": null,
      "metadata": {
        "id": "AQIFCFaEIT8q",
        "colab": {
          "base_uri": "https://localhost:8080/"
        },
        "outputId": "278fedb6-cbdc-40c8-ae0e-694e6c5d6e01"
      },
      "outputs": [
        {
          "output_type": "stream",
          "name": "stdout",
          "text": [
            "OK\n"
          ]
        }
      ],
      "source": [
        "assert sorted(contagemFinal.collect())==[('elefante',1), ('gato',2), ('rato',2)], 'valores incorretos!'\n",
        "print (\"OK\")"
      ]
    },
    {
      "cell_type": "markdown",
      "metadata": {
        "id": "CUJQbw5AIT8q"
      },
      "source": [
        "### **Parte 3: Encontrar las palabras únicas y calcular el recuento promedio**"
      ]
    },
    {
      "cell_type": "markdown",
      "metadata": {
        "id": "Di2JsnD9IT8r"
      },
      "source": [
        "#### **(3a) Palabras únicas**\n",
        "\n",
        "#### Calcula el número de palabras únicas en RDD. Utilice la misma canalización que antes pero reemplazando `.collect()` con otro método de API RDD."
      ]
    },
    {
      "cell_type": "code",
      "execution_count": null,
      "metadata": {
        "id": "akl47qCpIT8r",
        "colab": {
          "base_uri": "https://localhost:8080/"
        },
        "outputId": "42302602-2347-4456-ebe4-105aa6ea0ee1"
      },
      "outputs": [
        {
          "output_type": "stream",
          "name": "stdout",
          "text": [
            "3\n"
          ]
        }
      ],
      "source": [
        "# EXERCICIO\n",
        "palavrasUnicas = (contagemFinal\n",
        "                  .distinct().count()\n",
        "                 )\n",
        "print (palavrasUnicas)"
      ]
    },
    {
      "cell_type": "code",
      "execution_count": null,
      "metadata": {
        "id": "wfSStKR8IT8s",
        "colab": {
          "base_uri": "https://localhost:8080/"
        },
        "outputId": "95a5be27-ae3f-45af-9371-258ee0e82187"
      },
      "outputs": [
        {
          "output_type": "stream",
          "name": "stdout",
          "text": [
            "OK\n"
          ]
        }
      ],
      "source": [
        "assert palavrasUnicas==3, 'valor incorreto!'\n",
        "print (\"OK\")"
      ]
    },
    {
      "cell_type": "markdown",
      "metadata": {
        "id": "J1bxR6yIIT8s"
      },
      "source": [
        "#### **(3b) Cálculo del recuento promedio de palabras**\n",
        "\n",
        "#### Encuentra la frecuencia promedio de palabras usando RDD `count`.\n",
        "\n",
        "#### Tenga en cuenta que la función de comando `reduce()` se aplica a cada tupla de RDD. Para realizar la suma de los recuentos, primero es necesario mapear el RDD a un RDD que contenga solo los valores de frecuencia (sin las claves)."
      ]
    },
    {
      "cell_type": "code",
      "execution_count": null,
      "metadata": {
        "id": "ne9jEhx2IT8t",
        "colab": {
          "base_uri": "https://localhost:8080/"
        },
        "outputId": "cac23706-bfc0-457d-b920-bdc4eae628ce"
      },
      "outputs": [
        {
          "output_type": "stream",
          "name": "stdout",
          "text": [
            "5\n",
            "1.67\n"
          ]
        }
      ],
      "source": [
        "# EXERCICIO\n",
        "# add é equivalente a lambda x,y: x+y\n",
        "from operator import add\n",
        "total = (contagemFinal\n",
        "         .values()\n",
        "         .reduce(add)\n",
        "         )\n",
        "media = total / float(palavrasUnicas)\n",
        "print (total)\n",
        "print (round(media, 2))"
      ]
    },
    {
      "cell_type": "code",
      "execution_count": null,
      "metadata": {
        "id": "_kM4Q4KeIT8t",
        "colab": {
          "base_uri": "https://localhost:8080/"
        },
        "outputId": "d2ea2451-6e2f-4bd9-d4b9-9f3f7f9daf63"
      },
      "outputs": [
        {
          "output_type": "stream",
          "name": "stdout",
          "text": [
            "OK\n"
          ]
        }
      ],
      "source": [
        "assert round(media, 2)==1.67, 'valores incorretos!'\n",
        "print (\"OK\")"
      ]
    },
    {
      "cell_type": "markdown",
      "metadata": {
        "id": "h5c_TZJqIT8u"
      },
      "source": [
        "### **Parte 4: Aplicar nuestro algoritmo a un archivo**"
      ]
    },
    {
      "cell_type": "markdown",
      "metadata": {
        "id": "GhvXDwz4IT8u"
      },
      "source": [
        "#### ** (4a) Función `contaPalavras` **\n",
        "\n",
        "#### Para aplicar nuestro algoritmo genéricamente a múltiples RDD, primero creemos una función para aplicarla a cualquier fuente de datos. Esta función recibe la entrada de un RDD que contiene una lista de claves (palabras) y devuelve un RDD de tuplas con las claves y su recuento en ese RDD"
      ]
    },
    {
      "cell_type": "code",
      "execution_count": null,
      "metadata": {
        "id": "jh5KPntAIT8u",
        "colab": {
          "base_uri": "https://localhost:8080/"
        },
        "outputId": "e88d770d-369c-4595-9f5e-985ef60c0219"
      },
      "outputs": [
        {
          "output_type": "stream",
          "name": "stdout",
          "text": [
            "[('elefante', 1), ('rato', 2), ('gato', 2)]\n"
          ]
        }
      ],
      "source": [
        "# EXERCICIO\n",
        "def contaPalavras(chavesRDD):\n",
        "    \"\"\"Creates a pair RDD with word counts from an RDD of words.\n",
        "\n",
        "    Args:\n",
        "        chavesRDD (RDD of str): An RDD consisting of words.\n",
        "\n",
        "    Returns:\n",
        "        RDD of (str, int): An RDD consisting of (word, count) tuples.\n",
        "    \"\"\"\n",
        "    return (chavesRDD\n",
        "                 .map(lambda palavra: (palavra,1))\n",
        "                 .reduceByKey(lambda a,b: a+b)\n",
        "           )\n",
        "\n",
        "print (contaPalavras(palavrasRDD).collect())"
      ]
    },
    {
      "cell_type": "code",
      "execution_count": null,
      "metadata": {
        "id": "kRrghiBcIT8v",
        "colab": {
          "base_uri": "https://localhost:8080/"
        },
        "outputId": "e56dc9dd-346a-497e-ccb4-9b76295b24fd"
      },
      "outputs": [
        {
          "output_type": "stream",
          "name": "stdout",
          "text": [
            "OK\n"
          ]
        }
      ],
      "source": [
        "assert sorted(contaPalavras(palavrasRDD).collect())==[('elefante',1), ('gato',2), ('rato',2)], 'valores incorretos!'\n",
        "print (\"OK\")"
      ]
    },
    {
      "cell_type": "markdown",
      "metadata": {
        "id": "fKTsC28jIT8v"
      },
      "source": [
        "#### ** (4b) Normalizando el texto **\n",
        "\n",
        "#### Cuando trabajamos con datos reales, normalmente necesitamos estandarizar los atributos de tal manera que se ignoren las diferencias sutiles debidas a errores de medición o diferencias de estandarización. Para el siguiente paso, estandarizaremos el texto para:\n",
        "   + #### Estandarizar las mayúsculas de las palabras (todas en mayúsculas o todas en minúsculas).\n",
        "   + #### Eliminar puntuación.\n",
        "   + #### Eliminar espacios al principio y al final de la palabra.\n",
        " \n",
        "#### Crea una función `removerPontuacao` que convierte todo el texto a minúsculas, elimina los signos de puntuación y los espacios en blanco al principio o al final de la palabra. Para esto, use la biblioteca [re] (https://docs.python.org/2/library/re.html) para eliminar todo el texto que no sea letra, número o espacio, enlazando con las funciones de cadena para eliminar los espacios en blanco y convertir a minúsculas (consulte [Cadenas] (https://docs.python.org/2/library/stdtypes.html?highlight=str.lower#string-methods))."
      ]
    },
    {
      "cell_type": "code",
      "execution_count": 1,
      "metadata": {
        "id": "_Q1rDt3ZIT8w",
        "colab": {
          "base_uri": "https://localhost:8080/"
        },
        "outputId": "76ecbbe6-af8a-4b63-9175-3c758d510542"
      },
      "outputs": [
        {
          "output_type": "stream",
          "name": "stdout",
          "text": [
            "ola quem esta ai\n",
            "sem espaco esublinhado\n"
          ]
        }
      ],
      "source": [
        "# EXERCICIO\n",
        "import re\n",
        "def removerPontuacao(texto):\n",
        "    \"\"\"Removes punctuation, changes to lower case, and strips leading and trailing spaces.\n",
        "\n",
        "    Note:\n",
        "        Only spaces, letters, and numbers should be retained.  Other characters should should be\n",
        "        eliminated (e.g. it's becomes its).  Leading and trailing spaces should be removed after\n",
        "        punctuation is removed.\n",
        "\n",
        "    Args:\n",
        "        texto (str): A string.\n",
        "\n",
        "    Returns:\n",
        "        str: The cleaned up string.\n",
        "    \"\"\"\n",
        "    return re.sub(r'[^A-Za-z0-9 ]', '', texto).strip().lower()\n",
        "print (removerPontuacao('Ola, quem esta ai??!'))\n",
        "print (removerPontuacao(' Sem espaco e_sublinhado!'))"
      ]
    },
    {
      "cell_type": "code",
      "execution_count": null,
      "metadata": {
        "id": "lmU6YmANIT8x",
        "colab": {
          "base_uri": "https://localhost:8080/"
        },
        "outputId": "1bae018b-38f1-4ec8-fd01-04b66b702295"
      },
      "outputs": [
        {
          "output_type": "stream",
          "name": "stdout",
          "text": [
            "OK\n"
          ]
        }
      ],
      "source": [
        "assert removerPontuacao(' O uso de virgulas, embora permitido, nao deve contar. ')=='o uso de virgulas embora permitido nao deve contar', 'string incorreta!'\n",
        "print (\"OK\")"
      ]
    },
    {
      "cell_type": "markdown",
      "metadata": {
        "id": "JDZy8CJIIT8x"
      },
      "source": [
        "#### **(4c) Cargando archivo de texto**\n",
        "\n",
        "#### Para la siguiente parte usaremos el libro [Obras completas de William Shakespeare] (http://www.gutenberg.org/ebooks/100) de [Proyecto Gutenberg] (http://www.gutenberg.org / wiki / Página_principal).\n",
        "\n",
        "#### Para convertir un texto en un RDD, usamos la función `textFile()` que toma como entrada el nombre del archivo de texto que queremos usar y el número de particiones.\n",
        "\n",
        "#### El nombre del archivo de texto puede hacer referencia a un archivo local o un URI de archivo distribuido (por ejemplo, hdfs: //).\n",
        "\n",
        "#### Apliquemos también la función `removeScore()` para normalizar el texto y verifiquemos las primeras 15 líneas con el comando `take()`."
      ]
    },
    {
      "cell_type": "code",
      "execution_count": null,
      "metadata": {
        "id": "U-M_sSH8IT8y",
        "colab": {
          "base_uri": "https://localhost:8080/"
        },
        "outputId": "2213cdec-4b41-4079-acc1-53622216eb41"
      },
      "outputs": [
        {
          "output_type": "stream",
          "name": "stdout",
          "text": [
            "pg100.txt\n",
            ": 0\n",
            "project gutenbergs the complete works of william shakespeare by william: 1\n",
            "shakespeare: 2\n",
            ": 3\n",
            "this ebook is for the use of anyone anywhere in the united states and: 4\n",
            "most other parts of the world at no cost and with almost no restrictions: 5\n",
            "whatsoever  you may copy it give it away or reuse it under the terms: 6\n",
            "of the project gutenberg license included with this ebook or online at: 7\n",
            "wwwgutenbergorg  if you are not located in the united states youll: 8\n",
            "have to check the laws of the country where you are located before using: 9\n",
            "this ebook: 10\n",
            ": 11\n",
            "see at the end of this file  content note added in 2017: 12\n",
            ": 13\n",
            ": 14\n"
          ]
        }
      ],
      "source": [
        "# Apenas execute a célula\n",
        "import os.path\n",
        "\n",
        "arquivo = os.path.join('', 'pg100.txt') \n",
        "\n",
        "# lê o arquivo com textFile e aplica a função removerPontuacao        \n",
        "shakesRDD = (sc\n",
        "             .textFile(arquivo, 8)\n",
        "             .map(removerPontuacao)\n",
        "             )\n",
        "print(arquivo)\n",
        "# zipWithIndex gera tuplas (conteudo, indice) onde indice é a posição do conteudo na lista sequencial\n",
        "# Ex.: sc.parallelize(['gato','cachorro','boi']).zipWithIndex() ==> [('gato',0), ('cachorro',1), ('boi',2)]\n",
        "# sep.join() junta as strings de uma lista através do separador sep. Ex.: ','.join(['a','b','c']) ==> 'a,b,c'\n",
        "print ('\\n'.join(shakesRDD\n",
        "                .zipWithIndex()\n",
        "                .map(lambda linha: '{0}: {1}'.format(linha[0],linha[1]))\n",
        "                .take(15)\n",
        "               ))"
      ]
    },
    {
      "cell_type": "markdown",
      "metadata": {
        "id": "rxeLHC0jIT8y"
      },
      "source": [
        "#### **(4d) Extrayendo las palabras**\n",
        "#### Antes de que podamos usar nuestra función `contaPalavras()`, todavía tenemos que trabajar sobre nuestro RDD:\n",
        "   + #### Necesitamos generar listas de palabras en lugar de listas de oraciones.\n",
        "   + #### Eliminar líneas vacías.\n",
        " \n",
        "#### Las cadenas de Python tienen el método [split ()] (https://docs.python.org/2/library/string.html#string.split) que separa una cadena por un separador. En nuestro caso, queremos separar las cadenas por espacio.\n",
        "\n",
        "#### Usa la función `map()` para generar un nuevo RDD como lista de palabras."
      ]
    },
    {
      "cell_type": "code",
      "execution_count": null,
      "metadata": {
        "id": "9FBzdtC2IT8z",
        "colab": {
          "base_uri": "https://localhost:8080/"
        },
        "outputId": "a5f064ae-6bf5-427d-e473-2f625ab0a089"
      },
      "outputs": [
        {
          "output_type": "stream",
          "name": "stdout",
          "text": [
            "[[], ['project', 'gutenbergs', 'the', 'complete', 'works', 'of', 'william', 'shakespeare', 'by', 'william'], ['shakespeare'], [], ['this', 'ebook', 'is', 'for', 'the', 'use', 'of', 'anyone', 'anywhere', 'in', 'the', 'united', 'states', 'and']]\n",
            "147929\n"
          ]
        }
      ],
      "source": [
        "# EXERCICIO\n",
        "shakesPalavrasRDD = shakesRDD.map(lambda x: x.split())\n",
        "total = shakesPalavrasRDD.count()\n",
        "print (shakesPalavrasRDD.take(5))\n",
        "print (total)"
      ]
    },
    {
      "cell_type": "markdown",
      "metadata": {
        "id": "OTDzmBbDIT8z"
      },
      "source": [
        "#### Como habrás notado, el uso de la función `map()` genera una lista para cada línea, creando un RDD que contiene una lista de listas.\n",
        "\n",
        "#### Para resolver este problema, Spark tiene una función análoga llamada `flatMap ()` que aplica la transformación `map()`, pero *aplana* el retorno en forma de lista a una lista unidimensional."
      ]
    },
    {
      "cell_type": "code",
      "execution_count": null,
      "metadata": {
        "id": "fqDgZ5ioIT8z",
        "colab": {
          "base_uri": "https://localhost:8080/"
        },
        "outputId": "f9ff7807-3f24-44c9-fc94-859cad1fc6dc"
      },
      "outputs": [
        {
          "output_type": "stream",
          "name": "stdout",
          "text": [
            "['project', 'gutenbergs', 'the', 'complete', 'works']\n",
            "959359\n"
          ]
        }
      ],
      "source": [
        "# EXERCICIO\n",
        "shakesPalavrasRDD = shakesRDD.flatMap(lambda x: x.split())\n",
        "total = shakesPalavrasRDD.count()\n",
        "print (shakesPalavrasRDD.take(5))\n",
        "print (total)"
      ]
    },
    {
      "cell_type": "code",
      "execution_count": null,
      "metadata": {
        "id": "7TPXDh6lIT80",
        "colab": {
          "base_uri": "https://localhost:8080/"
        },
        "outputId": "e2d0eb2e-2163-4fc9-e98d-13b907677ecb"
      },
      "outputs": [
        {
          "output_type": "stream",
          "name": "stdout",
          "text": [
            "OK\n",
            "OK\n"
          ]
        }
      ],
      "source": [
        "assert total==959359, \"valor incorreto de palavras!\"\n",
        "print (\"OK\")\n",
        "assert shakesPalavrasRDD.take(5)==['project', 'gutenbergs', 'the', 'complete', 'works'],'lista incorreta de palavras'\n",
        "print (\"OK\")"
      ]
    },
    {
      "cell_type": "markdown",
      "metadata": {
        "id": "QcvL4A_qIT80"
      },
      "source": [
        "#### Tenga en cuenta que `flatMap` ya ha eliminado las entradas vacías."
      ]
    },
    {
      "cell_type": "markdown",
      "metadata": {
        "id": "_RZ2VbijIT81"
      },
      "source": [
        "#### ** (4f) Número de palabras **\n",
        "#### Ahora que nuestro RDD contiene una lista de palabras, podemos aplicar nuestra función `contaPalavras()`.\n",
        "\n",
        "#### Aplica la función a nuestro RDD y usa la función `takeOrdered` para imprimir las 15 palabras más frecuentes.\n",
        "\n",
        "#### `takeOrdered()` puede tomar un segundo parámetro que le dice a Spark cómo ordenar los elementos. Ex.:\n",
        "\n",
        "#### `takeOrdered (15, key=lambda x: -x)`: orden descendente de valores x"
      ]
    },
    {
      "cell_type": "code",
      "execution_count": null,
      "metadata": {
        "id": "2GbeizoUIT81",
        "colab": {
          "base_uri": "https://localhost:8080/"
        },
        "outputId": "a45e6af2-bd28-4cb7-9a3b-45ecab0d67f9"
      },
      "outputs": [
        {
          "output_type": "stream",
          "name": "stdout",
          "text": [
            "the: 29996\n",
            "and: 28353\n",
            "i: 21860\n",
            "to: 20885\n",
            "of: 18811\n",
            "a: 15992\n",
            "you: 14439\n",
            "my: 13191\n",
            "in: 12027\n",
            "that: 11782\n",
            "is: 9711\n",
            "not: 9068\n",
            "with: 8521\n",
            "me: 8271\n",
            "for: 8184\n"
          ]
        }
      ],
      "source": [
        "# EXERCICIO\n",
        "#print(contaPalavras( shakesPalavrasRDD).collect())\n",
        "top15 = contaPalavras(shakesPalavrasRDD).takeOrdered(15,key=lambda y: -1*y[1])\n",
        "#top15 = contaPalavras( shakesPalavrasRDD).takeOrdered(15, key=lambda x: -x)\n",
        "print ('\\n'.join(map(lambda x: f'{x[0]}: {x[1]}', top15)))"
      ]
    },
    {
      "cell_type": "code",
      "execution_count": null,
      "metadata": {
        "id": "Rv_VLxp4IT82",
        "colab": {
          "base_uri": "https://localhost:8080/"
        },
        "outputId": "d14d592b-bc6e-4730-9b4f-7e66c201801c"
      },
      "outputs": [
        {
          "output_type": "stream",
          "name": "stdout",
          "text": [
            "OK\n"
          ]
        }
      ],
      "source": [
        "assert top15 == [('the', 29996), ('and', 28353), ('i', 21860), ('to', 20885), ('of', 18811), ('a', 15992), ('you', 14439), ('my', 13191), ('in', 12027), ('that', 11782), ('is', 9711), ('not', 9068), ('with', 8521), ('me', 8271), ('for', 8184)],'valores incorretos!'\n",
        "print (\"OK\")"
      ]
    },
    {
      "cell_type": "markdown",
      "metadata": {
        "id": "VRTRlh-yIT82"
      },
      "source": [
        "### **Parte 5: Similaridad entre Objetos**"
      ]
    },
    {
      "cell_type": "markdown",
      "metadata": {
        "id": "C72xCXpfIT82"
      },
      "source": [
        "### En esta parte del laboratorio aprenderemos a calcular la distancia entre atributos numéricos, categóricos y textuales."
      ]
    },
    {
      "cell_type": "markdown",
      "metadata": {
        "id": "DvfJyj9ZIT83"
      },
      "source": [
        "#### ** (5a) Vectores en el espacio euclidiano **\n",
        "\n",
        "#### Cuando nuestros objetos están representados en el espacio euclidiano, medimos la similitud entre ellos a través de la *p-Norma* definida por:\n",
        "\n",
        "#### $$d(x,y,p) = (\\sum_{i=1}^{n}{|x_i - y_i|^p})^{1/p}$$\n",
        "\n",
        "#### Las normas más utilizadas son $p=1,2,\\infty$ que reducen en distancia absoluta, Euclidiana y distancia máxima:\n",
        "\n",
        "#### $$d(x,y,1) = \\sum_{i=1}^{n}{|x_i - y_i|}$$\n",
        "\n",
        "#### $$d(x,y,2) = (\\sum_{i=1}^{n}{|x_i - y_i|^2})^{1/2}$$\n",
        "\n",
        "#### $$d(x,y,\\infty) = \\max(|x_1 - y_1|,|x_2 - y_2|, ..., |x_n - y_n|)$$"
      ]
    },
    {
      "cell_type": "code",
      "execution_count": null,
      "metadata": {
        "id": "1TTQC-v9IT83"
      },
      "outputs": [],
      "source": [
        "import numpy as np\n",
        "\n",
        "# Vamos criar uma função pNorm que recebe como parâmetro p e retorna uma função que calcula a pNorma\n",
        "def pNorm(p):\n",
        "    \"\"\"Generates a function to calculate the p-Norm between two points.\n",
        "\n",
        "    Args:\n",
        "        p (int): The integer p.\n",
        "\n",
        "    Returns:\n",
        "        Dist: A function that calculates the p-Norm.\n",
        "    \"\"\"\n",
        "\n",
        "    def Dist(x,y):\n",
        "        return np.power(np.power(np.abs(x-y),p).sum(),1/float(p))\n",
        "    return Dist"
      ]
    },
    {
      "cell_type": "code",
      "execution_count": null,
      "metadata": {
        "id": "jAMPLbqlIT84"
      },
      "outputs": [],
      "source": [
        "# Vamos criar uma RDD com valores numéricos\n",
        "np.random.seed(42)\n",
        "numPointsRDD = sc.parallelize(enumerate(np.random.random(size=(10,100))))"
      ]
    },
    {
      "cell_type": "code",
      "execution_count": null,
      "metadata": {
        "id": "lPhgT64MIT84",
        "colab": {
          "base_uri": "https://localhost:8080/"
        },
        "outputId": "78fb669e-2929-45a4-fe2b-5366efe0480c"
      },
      "outputs": [
        {
          "output_type": "stream",
          "name": "stdout",
          "text": [
            "0.0 4.709048183663605 3.7511916889753705\n"
          ]
        }
      ],
      "source": [
        "# EXERCICIO\n",
        "# Procure dentre os comandos do PySpark, um que consiga fazer o produto cartesiano da base com ela mesma\n",
        "cartPointsRDD = numPointsRDD.cartesian(numPointsRDD)\n",
        "\n",
        "# Aplique um mapa para transformar nossa RDD em uma RDD de tuplas ((id1,id2), (vetor1,vetor2))\n",
        "# DICA: primeiro utilize o comando take(1) e imprima o resultado para verificar o formato atual da RDD\n",
        "cartPointsParesRDD = cartPointsRDD.map(lambda x: ((x[0][0],x[1][0]), (x[0][1],x[1][1])))\n",
        "\n",
        "\n",
        "# Aplique um mapa para calcular a Distância Euclidiana entre os pares\n",
        "Euclid = pNorm(2)\n",
        "distRDD = cartPointsParesRDD.map(lambda x: (x[0], Euclid(x[1][0],x[1][1])))\n",
        "\n",
        "# Encontre a distância máxima, mínima e média, aplicando um mapa que transforma (chave,valor) --> valor\n",
        "# e utilizando os comandos internos do pyspark para o cálculo da min, max, mean\n",
        "statRDD = distRDD.map(lambda x: x[1])\n",
        "\n",
        "minv, maxv, meanv = statRDD.min(), statRDD.max(), statRDD.mean()\n",
        "print (minv, maxv, meanv)"
      ]
    },
    {
      "cell_type": "code",
      "execution_count": null,
      "metadata": {
        "id": "9GdPhZilIT85",
        "colab": {
          "base_uri": "https://localhost:8080/"
        },
        "outputId": "ffdc8a94-015f-458d-bd19-0db7f5c340c7"
      },
      "outputs": [
        {
          "output_type": "stream",
          "name": "stdout",
          "text": [
            "OK\n"
          ]
        }
      ],
      "source": [
        "assert (minv.round(2), maxv.round(2), meanv.round(2))==(0.0, 4.71, 3.75), 'Valores incorretos'\n",
        "print (\"OK\")"
      ]
    },
    {
      "cell_type": "markdown",
      "metadata": {
        "id": "h06FrV8KIT85"
      },
      "source": [
        "#### ** (5b) Valores Categóricos **\n",
        "\n",
        "#### Cuando nuestros objetos están representados por atributos categóricos, no tienen similitud espacial. Para calcular la similitud entre ellos podemos primero transformar nuestro vector de atributos en un vector binario indicando, para cada valor posible de cada atributo, si tiene ese atributo o no.\n",
        "\n",
        "#### Con el vector binario podemos usar la distancia de Hamming definida por:\n",
        "\n",
        "#### $$ H(x,y) = \\sum_{i=1}^{n}{x_i != y_i} $$\n",
        "\n",
        "#### También puedes establecer la distancia de Jaccard como:\n",
        "\n",
        "#### $$ J(x,y) = \\frac{\\sum_{i=1}^{n}{x_i == y_i} }{\\sum_{i=1}^{n}{\\max(x_i, y_i}) } $$"
      ]
    },
    {
      "cell_type": "code",
      "execution_count": null,
      "metadata": {
        "id": "N6YZVrG0IT85"
      },
      "outputs": [],
      "source": [
        "# Vamos criar uma função para calcular a distância de Hamming\n",
        "def Hamming(x,y):\n",
        "    \"\"\"Calculates the Hamming distance between two binary vectors.\n",
        "\n",
        "    Args:\n",
        "        x, y (np.array): Array of binary integers x and y.\n",
        "\n",
        "    Returns:\n",
        "        H (int): The Hamming distance between x and y.\n",
        "    \"\"\"\n",
        "    return (x!=y).sum()\n",
        "\n",
        "# Vamos criar uma função para calcular a distância de Jaccard\n",
        "def Jaccard(x,y):\n",
        "    \"\"\"Calculates the Jaccard distance between two binary vectors.\n",
        "\n",
        "    Args:\n",
        "        x, y (np.array): Array of binary integers x and y.\n",
        "\n",
        "    Returns:\n",
        "        J (int): The Jaccard distance between x and y.\n",
        "    \"\"\"\n",
        "    return (x==y).sum()/float( np.maximum(x,y).sum() )"
      ]
    },
    {
      "cell_type": "code",
      "execution_count": null,
      "metadata": {
        "id": "S4na8-bRIT86"
      },
      "outputs": [],
      "source": [
        "# Vamos criar uma RDD com valores categóricos\n",
        "catPointsRDD = sc.parallelize(enumerate([['alto', 'caro', 'azul'],\n",
        "                             ['medio', 'caro', 'verde'],\n",
        "                             ['alto', 'barato', 'azul'],\n",
        "                             ['medio', 'caro', 'vermelho'],\n",
        "                             ['baixo', 'barato', 'verde'],\n",
        "                            ]))"
      ]
    },
    {
      "cell_type": "code",
      "execution_count": null,
      "metadata": {
        "id": "vr_-ENaVIT86",
        "colab": {
          "base_uri": "https://localhost:8080/"
        },
        "outputId": "918ebc81-9752-46ea-8dc6-b7d7cc687bb4"
      },
      "outputs": [
        {
          "output_type": "stream",
          "name": "stdout",
          "text": [
            "{'alto': 2, 'caro': 0, 'baixo': 4, 'verde': 1, 'azul': 2, 'medio': 3, 'barato': 4, 'vermelho': 3} 8\n"
          ]
        }
      ],
      "source": [
        "# EXERCICIO\n",
        "# Crie um RDD de chaves únicas utilizando flatMap\n",
        "chavesRDD = (catPointsRDD\n",
        "             .flatMap(lambda x: [((x[0],xi),1) for xi in x[1]])\n",
        "             .reduceByKey(lambda x,y: x)\n",
        "             .map(lambda x: x[0])\n",
        "             )\n",
        "\n",
        "chaves = dict((v,k) for k,v in chavesRDD.collect())\n",
        "nchaves = len(chaves)\n",
        "print (chaves, nchaves)"
      ]
    },
    {
      "cell_type": "code",
      "execution_count": null,
      "metadata": {
        "id": "ZCZearQeIT87",
        "colab": {
          "base_uri": "https://localhost:8080/"
        },
        "outputId": "228533b1-3443-42f6-8d2d-117f49988292"
      },
      "outputs": [
        {
          "output_type": "stream",
          "name": "stdout",
          "text": [
            "OK\n",
            "OK\n"
          ]
        }
      ],
      "source": [
        "assert chaves=={'alto': 2, 'caro': 0, 'baixo': 4, 'verde': 1, 'azul': 2, 'medio': 3, 'barato': 4, 'vermelho': 3}, 'valores incorretos!'\n",
        "print (\"OK\")\n",
        "\n",
        "assert nchaves==8, 'número de chaves incorreta'\n",
        "print (\"OK\")"
      ]
    },
    {
      "cell_type": "code",
      "execution_count": null,
      "metadata": {
        "id": "beTKY-KEIT87",
        "colab": {
          "base_uri": "https://localhost:8080/"
        },
        "outputId": "3a337fa0-2e84-4cda-bb8c-fe5c896c6322"
      },
      "outputs": [
        {
          "output_type": "execute_result",
          "data": {
            "text/plain": [
              "[(0, array([1., 0., 1., 0., 0., 0., 0., 0.])),\n",
              " (1, array([1., 1., 0., 1., 0., 0., 0., 0.])),\n",
              " (2, array([0., 0., 1., 0., 1., 0., 0., 0.])),\n",
              " (3, array([1., 0., 0., 1., 0., 0., 0., 0.])),\n",
              " (4, array([0., 1., 0., 0., 1., 0., 0., 0.]))]"
            ]
          },
          "metadata": {},
          "execution_count": 57
        }
      ],
      "source": [
        "def CreateNP(atributos,chaves):  \n",
        "    \"\"\"Binarize the categorical vector using a dictionary of keys.\n",
        "\n",
        "    Args:\n",
        "        atributos (list): List of attributes of a given object.\n",
        "        chaves (dict): dictionary with the relation attribute -> index\n",
        "\n",
        "    Returns:\n",
        "        array (np.array): Binary array of attributes.\n",
        "    \"\"\"\n",
        "    \n",
        "    array = np.zeros(len(chaves))\n",
        "    for atr in atributos:\n",
        "        array[ chaves[atr] ] = 1\n",
        "    return array\n",
        "\n",
        "# Converte o RDD para o formato binário, utilizando o dict chaves\n",
        "binRDD = catPointsRDD.map(lambda rec: (rec[0],CreateNP(rec[1], chaves)))\n",
        "binRDD.collect()"
      ]
    },
    {
      "cell_type": "code",
      "execution_count": null,
      "metadata": {
        "id": "E3LPPmdIIT87",
        "colab": {
          "base_uri": "https://localhost:8080/"
        },
        "outputId": "f316d388-5ed2-421a-a7d4-ea84e6197075"
      },
      "outputs": [
        {
          "output_type": "stream",
          "name": "stdout",
          "text": [
            "\t\tMin\tMax\tMean\n",
            "Hamming:\t0.00\t5.00\t2.40\n",
            "Jaccard:\t0.60\t4.00\t1.90\n"
          ]
        }
      ],
      "source": [
        "# EXERCICIO\n",
        "# Procure dentre os comandos do PySpark, um que consiga fazer o produto cartesiano da base com ela mesma\n",
        "cartBinRDD = binRDD.cartesian(binRDD)\n",
        "\n",
        "# Aplique um mapa para transformar nossa RDD em uma RDD de tuplas ((id1,id2), (vetor1,vetor2))\n",
        "# DICA: primeiro utilize o comando take(1) e imprima o resultado para verificar o formato atual da RDD\n",
        "cartBinParesRDD = cartBinRDD.map(lambda x: ((x[0][0],x[1][0]), (x[0][1],x[1][1])))\n",
        "\n",
        "\n",
        "# Aplique um mapa para calcular a Distância de Hamming e Jaccard entre os pares\n",
        "hamRDD = cartBinParesRDD.map(lambda x: (x[0], Hamming(x[1][0],x[1][1])))\n",
        "jacRDD = cartBinParesRDD.map(lambda x: (x[0], Jaccard(x[1][0],x[1][1])))\n",
        "\n",
        "# Encontre a distância máxima, mínima e média, aplicando um mapa que transforma (chave,valor) --> valor\n",
        "# e utilizando os comandos internos do pyspark para o cálculo da min, max, mean\n",
        "statHRDD = hamRDD.map(lambda x: x[1])\n",
        "statJRDD = jacRDD.map(lambda x: x[1])\n",
        "\n",
        "Hmin, Hmax, Hmean = statHRDD.min(), statHRDD.max(), statHRDD.mean()\n",
        "Jmin, Jmax, Jmean = statJRDD.min(), statJRDD.max(), statJRDD.mean()\n",
        "\n",
        "print (\"\\t\\tMin\\tMax\\tMean\")\n",
        "print (\"Hamming:\\t{:.2f}\\t{:.2f}\\t{:.2f}\".format(Hmin, Hmax, Hmean ))\n",
        "print (\"Jaccard:\\t{:.2f}\\t{:.2f}\\t{:.2f}\".format( Jmin, Jmax, Jmean ))"
      ]
    },
    {
      "cell_type": "code",
      "execution_count": null,
      "metadata": {
        "id": "dbm5KGb9IT88",
        "colab": {
          "base_uri": "https://localhost:8080/"
        },
        "outputId": "d8cc7a00-8a52-4c22-fee6-9d1983c2d086"
      },
      "outputs": [
        {
          "output_type": "stream",
          "name": "stdout",
          "text": [
            "OK\n",
            "OK\n"
          ]
        }
      ],
      "source": [
        "assert (Hmin.round(2), Hmax.round(2), Hmean.round(2)) == (0.00,5.00,2.40), 'valores incorretos'\n",
        "print (\"OK\")\n",
        "assert (Jmin.round(2), Jmax.round(2), Jmean.round(2)) == (0.60,4.00,1.90), 'valores incorretos'\n",
        "print (\"OK\")"
      ]
    }
  ]
}