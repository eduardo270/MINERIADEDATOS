{
 "cells": [
  {
   "cell_type": "markdown",
   "id": "d3adc3b2",
   "metadata": {},
   "source": [
    "Ejercicio 01: Cree una función divisibleN x d que devuelva verdadero si x es divisible por todos\n",
    "los números del 1 al d. Piense en cómo reducir el costo computacional. (8)\n",
    "Ejemplo:\n",
    "\n",
    "divisibleN 12 3 devuelve True pues 12 es divisible por [1,2,3]\n",
    "\n",
    "divisibleN 10 4 devuelve False pues 10 es divisible solo por [1,2] pero no por [3,4]"
   ]
  },
  {
   "cell_type": "code",
   "execution_count": 1,
   "id": "59081b41",
   "metadata": {},
   "outputs": [],
   "source": [
    "--MODULO PARA CALCULAR EL MINIMO COMUN MULTIPLO CON COMPLEJIDAD LINEAL USANDO LISTAS\n",
    "mcm [x]      = abs x\n",
    "mcm (x:y:ys) = lcm x (mcm (y:ys))\n",
    "--CALCULAR  SI EL NUMERO ES DIVISIBLE POR LOS NUMEROS DEL 1 AL N USANDO EL MCM\n",
    "divisibleN vd vn= vd `rem` mcm [1..vn]==0"
   ]
  },
  {
   "cell_type": "markdown",
   "id": "d07754a0",
   "metadata": {},
   "source": [
    "Ejercicio 02: Cree una función mediaDivN d n que devuelva la media de los n primeros números\n",
    "que devuelven True a la función del ejercicio anterior. Piense en cómo reducir el costo\n",
    "computacional. (8)\n",
    "Ejemplo:\n",
    "\n",
    "mediaDivN 2 4 = (2+4+6+8) / 4 = 5\n",
    "\n",
    "ya que [2,4,6,8], son los 4 primeros numeros que devuelven True a la función anterior para un d=2\n",
    "\n",
    "divisibleN 2 2 = True\n",
    "\n",
    "divisibleN 4 2 = True\n",
    "\n",
    "divisibleN 6 2 = True\n",
    "\n",
    "divisibleN 8 2 = True"
   ]
  },
  {
   "cell_type": "code",
   "execution_count": 2,
   "id": "97b8b820",
   "metadata": {},
   "outputs": [],
   "source": [
    "--MODULO PARA CALCULAR LA MEDIA DE LOS N PRIMEROS  NUMEROS QUE DEVUELVEN TRUE A LA FUNCION ANTERIOR\n",
    "mediaDivN vd vn=  realToFrac (mcm [1..vd] * (vn+1))/2"
   ]
  },
  {
   "cell_type": "code",
   "execution_count": 3,
   "id": "094731a7",
   "metadata": {},
   "outputs": [
    {
     "data": {
      "text/plain": [
       "5.0"
      ]
     },
     "metadata": {},
     "output_type": "display_data"
    }
   ],
   "source": [
    "mediaDivN 2 4"
   ]
  },
  {
   "cell_type": "code",
   "execution_count": 4,
   "id": "bcbf4d0d",
   "metadata": {},
   "outputs": [
    {
     "data": {
      "text/plain": [
       "6.0"
      ]
     },
     "metadata": {},
     "output_type": "display_data"
    }
   ],
   "source": [
    "mediaDivN 2 5"
   ]
  }
 ],
 "metadata": {
  "kernelspec": {
   "display_name": "Haskell",
   "language": "haskell",
   "name": "haskell"
  },
  "language_info": {
   "codemirror_mode": "ihaskell",
   "file_extension": ".hs",
   "mimetype": "text/x-haskell",
   "name": "haskell",
   "pygments_lexer": "Haskell",
   "version": "8.10.7"
  }
 },
 "nbformat": 4,
 "nbformat_minor": 5
}
