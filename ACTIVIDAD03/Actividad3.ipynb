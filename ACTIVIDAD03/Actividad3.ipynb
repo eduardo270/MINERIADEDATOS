{
  "nbformat": 4,
  "nbformat_minor": 0,
  "metadata": {
    "colab": {
      "name": "Actividad3.ipynb",
      "provenance": []
    },
    "kernelspec": {
      "display_name": "Python 3",
      "name": "python3"
    },
    "language_info": {
      "name": "python"
    }
  },
  "cells": [
    {
      "cell_type": "markdown",
      "metadata": {
        "id": "1GZsamDRBFuI"
      },
      "source": [
        "#Actividad 3:Mineria de Datos\n",
        "\n",
        "*Carlos Eduardo Inca Cruz*\n"
      ]
    },
    {
      "cell_type": "markdown",
      "metadata": {
        "id": "-_xXCJ2ABL-V"
      },
      "source": [
        "El algoritmo a priori es un algoritmo utilizado en minería de datos, sobre bases de datos transaccionales, que permite encontrar de forma eficiente \"conjuntos de ítems frecuentes\", los cuales sirven de base para generar reglas de asociación. Procede identificando los ítems individuales frecuentes en la base y extendiéndolos a conjuntos de mayor tamaño siempre y cuando esos conjuntos de datos aparezcan suficientemente seguidos en dicha base de datos. Este algoritmo se ha aplicado grandemente en el análisis de transacciones comerciales y en problemas de predicción.\n",
        "\n",
        "La minería de reglas de asociación consta de 2 pasos:\n",
        "\n",
        "\n",
        "\n",
        "*   Encuentra todos los conjuntos de elementos frecuentes.\n",
        "*   Genere reglas de asociación a partir de los conjuntos de elementos frecuentes anteriores."
      ]
    },
    {
      "cell_type": "markdown",
      "metadata": {
        "id": "2_NkMkhzBPMf"
      },
      "source": [
        "#Importamos librerias"
      ]
    },
    {
      "cell_type": "code",
      "metadata": {
        "id": "b-72ktpQBFHT"
      },
      "source": [
        "import itertools\n",
        "import numpy as np\n",
        "import pandas as pd \n",
        "from tabulate import tabulate "
      ],
      "execution_count": 35,
      "outputs": []
    },
    {
      "cell_type": "markdown",
      "metadata": {
        "id": "UstbYUwWNxXv"
      },
      "source": [
        "#Implementar el algoritmo Apriori"
      ]
    },
    {
      "cell_type": "code",
      "metadata": {
        "id": "0CYNyCzA1mn5"
      },
      "source": [
        "\n",
        "\n",
        "# Funciones para calcular y extraer reglas de asociación de una frecuencia determinada\n",
        "# conjunto de elementos generado por el algoritmo Apriori.\n",
        "\n",
        "\n",
        "#Genera conjuntos de elementos candidatos\n",
        "def GenerarCandidatosIS(Frec_ISets, k):\n",
        "    # lista de conjuntos de elementos frecuentes fusionados\n",
        "    Elementos_Retirados = []\n",
        "    # lista de conjuntos de elementos frecuentes fusionados\n",
        "    lenLk = len(Frec_ISets) \n",
        "    for i in range(lenLk):\n",
        "        for j in range(i+1, lenLk):\n",
        "            a=list(Frec_ISets[i])\n",
        "            b=list(Frec_ISets[j])\n",
        "            a.sort()\n",
        "            b.sort()\n",
        "            # primeros k-2 elementos de Frec_ISets [i]\n",
        "            F1 = a[:k-2] \n",
        "            # # primeros k-2 elementos de Frec_ISets [i]\n",
        "            F2 = b[:k-2] \n",
        "\n",
        "            if F1 == F2: \n",
        "                \n",
        "                # Mezclar los conjuntos de elementos frecuentes.\n",
        "                Elementos_Retirados.append(Frec_ISets[i] | Frec_ISets[j])\n",
        "\n",
        "    return Elementos_Retirados\n",
        "#Genera un conjunto de reglas candidatas\n",
        "def Gen_Reglas_Candidatas(Elem_Frecuentes, H, Datos_De_Soporte, Reglas, Min_Conf=0.5, Bandera=False):\n",
        "\n",
        "    m = len(H[0])\n",
        "    if m == 1:\n",
        "        Hmp1 = Calcular_Confianza(Elem_Frecuentes, H, Datos_De_Soporte, Reglas, Min_Conf, Bandera)\n",
        "    if (len(Elem_Frecuentes) > (m+1)):\n",
        "        Hmp1 = GenerarCandidatosIS(H, m+1) # generar conjuntos de elementos candidatos\n",
        "        Hmp1 = Calcular_Confianza(Elem_Frecuentes, Hmp1, Datos_De_Soporte, Reglas, Min_Conf, Bandera)\n",
        "        if len(Hmp1) > 1:\n",
        "            # Si hay reglas candidatas por encima del mínimo de confianza\n",
        "            # umbral, recurre en la lista de estas reglas candidatas.\n",
        "            Gen_Reglas_Candidatas(Elem_Frecuentes, Hmp1, Datos_De_Soporte, Reglas, Min_Conf, Bandera)\n",
        "#Para calcular la confianza, iteramos a través de los conjuntos de elementos frecuentes ydatos de soporte asociados. \n",
        "def Calcular_Confianza(Elem_Frecuentes, H, Datos_De_Soporte, Reglas, Min_Conf=0.5, Bandera=False):\n",
        "    Total_Reglas=[]\n",
        "    Reglas_Aceptadas = [] #lista de candidatos Reglas por encima del umbral mínimo de confianza\n",
        "    \n",
        "    for conseq in H: # iterate over the frequent itemsets\n",
        "        conf = Datos_De_Soporte[Elem_Frecuentes] / Datos_De_Soporte[Elem_Frecuentes - conseq]\n",
        "        if conf >= Min_Conf:\n",
        "            Reglas.append((Elem_Frecuentes - conseq, conseq, conf))\n",
        "            Reglas_Aceptadas.append(conseq)\n",
        "            if Bandera:\n",
        "\n",
        "                Total_Reglas.append((\"\".join([str(i) + \", \" for i in iter(Elem_Frecuentes-conseq)]).rstrip(', '),\"\".join([str(i) + \", \" for i in iter(conseq)]).rstrip(', '),str(round(conf, 3)), str(round(Datos_De_Soporte[Elem_Frecuentes], 3))))\n",
        "                #Imprimir las reglas seleccionadas\n",
        "                print(\"\" + \"Ant =\" \"\".join([str(i) + \", \" for i in iter(Elem_Frecuentes-conseq)]).rstrip(', ') + \" ---> \" + \"Cons=\"  + \"\".join([str(i) + \", \" for i in iter(conseq)]).rstrip(', ')  + \":  conf = \" + str(round(conf, 3)) + \", sup = \" + str(round(Datos_De_Soporte[Elem_Frecuentes], 3)))\n",
        "                \n",
        "    return Reglas_Aceptadas\n",
        "\n",
        "# Genera un conjunto de reglas candidatas\n",
        "def generate_Reglas(F, Datos_De_Soporte, Min_Conf=0.5, Bandera=True):\n",
        "   \n",
        "    Reglas = []\n",
        "    for i in range(1, len(F)):\n",
        "        for Elem_Frecuentes in F[i]:\n",
        "            H1 = [frozenset([itemset]) for itemset in Elem_Frecuentes]\n",
        "            if (i > 1):\n",
        "                Gen_Reglas_Candidatas(Elem_Frecuentes, H1, Datos_De_Soporte, Reglas, Min_Conf, Bandera)\n",
        "            else:\n",
        "                Calcular_Confianza(Elem_Frecuentes, H1, Datos_De_Soporte, Reglas, Min_Conf, Bandera)\n",
        "\n",
        "    return Reglas\n",
        "\n",
        "\n",
        "\n",
        "\n",
        "\n",
        "def generate_association_rules(dataset,Min_Sup=0.6, Bandera=True):\n",
        "    # lista de todos los elementos en la base de datos de transacciones\n",
        "    c1 = [] \n",
        "    for transaction in dataset:\n",
        "        for item in transaction:\n",
        "            if not [item] in c1:\n",
        "                c1.append([item])\n",
        "    c1.sort()\n",
        "    ListaCandidatos=list(map(frozenset, c1))\n",
        "    \n",
        "    # Elimine los conjuntos de 1 elemento candidatos mediante la poda basada en soporte para generar conjuntos de 1 elemento frecuentes.\n",
        "    # establecido para conteos de Suport\n",
        "    sc = {} \n",
        "    for tid in dataset:\n",
        "        for can in ListaCandidatos:\n",
        "            if can.issubset(tid):\n",
        "                sc.setdefault(can, 0)\n",
        "                sc[can] += 1\n",
        "     # número total de transacciones en el conjunto de datos\n",
        "    Numero_De_Elementos = float(len(dataset))\n",
        "    # matriz para conjuntos de elementos sin podar\n",
        "    Elementos_Retirados = [] \n",
        "    # conjunto de datos de soporte para conjuntos de elementos correspondientes\n",
        "    Datos_De_Soporte = {} \n",
        "    for key in sc:\n",
        "        # Calcule el soporte de la clave del conjunto de elementos.\n",
        "        support = sc[key] / Numero_De_Elementos\n",
        "        if support >= Min_Sup:\n",
        "            Elementos_Retirados.insert(0, key)\n",
        "        Datos_De_Soporte[key] = support\n",
        "    F1, Datos_De_Soporte = Elementos_Retirados, Datos_De_Soporte\n",
        "\n",
        "     # lista de todos los elementos en la base de datos de transacciones\n",
        "    c1 = []\n",
        "    for transaction in dataset:\n",
        "        for item in transaction:\n",
        "            if not [item] in c1:\n",
        "                c1.append([item])\n",
        "    c1.sort()\n",
        "    C1=list(map(frozenset, c1))\n",
        "    D = list(map(set, dataset))\n",
        "    # establecido para conteos de Suport\n",
        "    sc = {} \n",
        "    for tid in dataset:\n",
        "        for can in C1:\n",
        "            if can.issubset(tid):\n",
        "                sc.setdefault(can, 0)\n",
        "                sc[can] += 1\n",
        "    # número total de transacciones en el conjunto de datos\n",
        "    Numero_De_Elementos = float(len(dataset)) \n",
        "    # matriz para conjuntos de elementos sin podar\n",
        "    Elementos_Retirados = [] \n",
        "    # conjunto de datos de soporte para conjuntos de elementos correspondientes\n",
        "    Datos_De_Soporte = {}\n",
        "    for key in sc:\n",
        "        # Calcule el soporte de la clave del conjunto de elementos.\n",
        "        support = sc[key] / Numero_De_Elementos\n",
        "        if support >= Min_Sup:\n",
        "            Elementos_Retirados.insert(0, key)\n",
        "        Datos_De_Soporte[key] = support\n",
        "    # podar candidato 1-itemsets\n",
        "    F1, Datos_De_Soporte = Elementos_Retirados, Datos_De_Soporte \n",
        "    # lista de conjuntos de elementos frecuentes; inicializado a conjuntos frecuentes de 1 itemsets\n",
        "    F = [F1] \n",
        "    k = 2 \n",
        "    # la cardinalidad del conjunto de elementos\n",
        "    while (len(F[k - 2]) > 0):\n",
        "        # generar conjuntos de elementos candidatos\n",
        "        Ck = GenerarCandidatosIS(F[k-2], k) \n",
        "\n",
        "\n",
        "        # podar itemsets candidatos\n",
        "        Fk, supK = Filtrar_Support(D, Ck, Min_Sup) \n",
        "        # actualice los conteos de soporte para reflejar la poda\n",
        "        Datos_De_Soporte.update(supK)\n",
        "        # agregue los conjuntos de elementos candidatos podados a la lista de conjuntos de elementos frecuentes\n",
        "        F.append(Fk) \n",
        "        k += 1\n",
        "\n",
        "    return F,Datos_De_Soporte\n",
        "\n"
      ],
      "execution_count": 214,
      "outputs": []
    },
    {
      "cell_type": "markdown",
      "metadata": {
        "id": "yqo4SRvGBSfE"
      },
      "source": [
        "#Importamos datos"
      ]
    },
    {
      "cell_type": "markdown",
      "metadata": {
        "id": "EPRfKvaRTmeu"
      },
      "source": [
        "Importamos spotify.npy el cual contiene playlists escuchadas por los usuarios"
      ]
    },
    {
      "cell_type": "markdown",
      "metadata": {
        "id": "2c0zcST8s8ZD"
      },
      "source": [
        "Ahora importamos los datos del archivo \n",
        "\n",
        "```\n",
        "spotify.npy\n",
        "```\n",
        "usamos subarreglos por el alto costo computacional del programa y usamos el los modulos \n",
        "$$O(n)=2^{[S]}$$\n",
        "\n"
      ]
    },
    {
      "cell_type": "code",
      "metadata": {
        "colab": {
          "base_uri": "https://localhost:8080/"
        },
        "id": "6epQNgwiriD2",
        "outputId": "f58f7bca-befc-4b80-b49e-e987e95c45db"
      },
      "source": [
        "Nombre_Archivo = 'spotify.npy'\n",
        "dataSet = np.load(Nombre_Archivo, allow_pickle=True)\n",
        "dataSet=list(dataSet.tolist().values())[21710:21740]\n",
        "dataSet=[i[0:5] for i in dataSet]\n",
        "\n",
        "#Programa Principal\n",
        "#lista de transacciones; cada transacción es una lista de artículos\n",
        "dataset = load_dataset() \n",
        "# conjunto de transacciones; cada transacción es una lista de artículo\n",
        "D = list(map(set, dataset)) \n",
        "\n",
        "\n",
        "Frecuent_Item_Sets, Datos_De_Soporte = generate_association_rules(dataset,Min_Sup=0.6, Bandera=True)\n",
        "# Genere las reglas de asociación a partir de una lista de conjuntos de elementos frecuentes.\n",
        "H = generate_Reglas(Frecuent_Item_Sets, Datos_De_Soporte, Min_Conf=0.8, Bandera=True)"
      ],
      "execution_count": 215,
      "outputs": [
        {
          "output_type": "stream",
          "name": "stdout",
          "text": [
            "Fathoms Below - Broadway Cast Recording ---> Cons=Daughters Of Triton - Broadway Cast Recording:  conf = 1.0, sup = 0.8\n",
            "Daughters Of Triton - Broadway Cast Recording ---> Cons=Fathoms Below - Broadway Cast Recording:  conf = 1.0, sup = 0.8\n",
            "Daughters Of Triton - Broadway Cast Recording ---> Cons=The World Above - Broadway Cast Recording:  conf = 1.0, sup = 0.8\n",
            "The World Above - Broadway Cast Recording ---> Cons=Daughters Of Triton - Broadway Cast Recording:  conf = 1.0, sup = 0.8\n",
            "Fathoms Below - Broadway Cast Recording ---> Cons=The World Above - Broadway Cast Recording:  conf = 1.0, sup = 0.8\n",
            "The World Above - Broadway Cast Recording ---> Cons=Fathoms Below - Broadway Cast Recording:  conf = 1.0, sup = 0.8\n",
            "Daughters Of Triton - Broadway Cast Recording, Ant =Fathoms Below - Broadway Cast Recording ---> Cons=The World Above - Broadway Cast Recording:  conf = 1.0, sup = 0.8\n",
            "The World Above - Broadway Cast Recording, Ant =Fathoms Below - Broadway Cast Recording ---> Cons=Daughters Of Triton - Broadway Cast Recording:  conf = 1.0, sup = 0.8\n",
            "The World Above - Broadway Cast Recording, Ant =Daughters Of Triton - Broadway Cast Recording ---> Cons=Fathoms Below - Broadway Cast Recording:  conf = 1.0, sup = 0.8\n",
            "Fathoms Below - Broadway Cast Recording ---> Cons=The World Above - Broadway Cast Recording, Daughters Of Triton - Broadway Cast Recording:  conf = 1.0, sup = 0.8\n",
            "Daughters Of Triton - Broadway Cast Recording ---> Cons=The World Above - Broadway Cast Recording, Fathoms Below - Broadway Cast Recording:  conf = 1.0, sup = 0.8\n",
            "The World Above - Broadway Cast Recording ---> Cons=Daughters Of Triton - Broadway Cast Recording, Fathoms Below - Broadway Cast Recording:  conf = 1.0, sup = 0.8\n",
            "Fathoms Below - Broadway Cast Recording, Ant =Circles ---> Cons=The World Above - Broadway Cast Recording:  conf = 1.0, sup = 0.6\n",
            "The World Above - Broadway Cast Recording, Ant =Circles ---> Cons=Fathoms Below - Broadway Cast Recording:  conf = 1.0, sup = 0.6\n",
            "Daughters Of Triton - Broadway Cast Recording, Ant =Circles ---> Cons=The World Above - Broadway Cast Recording:  conf = 1.0, sup = 0.6\n",
            "The World Above - Broadway Cast Recording, Ant =Circles ---> Cons=Daughters Of Triton - Broadway Cast Recording:  conf = 1.0, sup = 0.6\n",
            "Fathoms Below - Broadway Cast Recording, Ant =Circles ---> Cons=Daughters Of Triton - Broadway Cast Recording:  conf = 1.0, sup = 0.6\n",
            "Daughters Of Triton - Broadway Cast Recording, Ant =Circles ---> Cons=Fathoms Below - Broadway Cast Recording:  conf = 1.0, sup = 0.6\n",
            "The World Above - Broadway Cast Recording, Ant =Daughters Of Triton - Broadway Cast Recording, Ant =Circles ---> Cons=Fathoms Below - Broadway Cast Recording:  conf = 1.0, sup = 0.6\n",
            "Daughters Of Triton - Broadway Cast Recording, Ant =Fathoms Below - Broadway Cast Recording, Ant =Circles ---> Cons=The World Above - Broadway Cast Recording:  conf = 1.0, sup = 0.6\n",
            "The World Above - Broadway Cast Recording, Ant =Fathoms Below - Broadway Cast Recording, Ant =Circles ---> Cons=Daughters Of Triton - Broadway Cast Recording:  conf = 1.0, sup = 0.6\n",
            "Daughters Of Triton - Broadway Cast Recording, Ant =Circles ---> Cons=The World Above - Broadway Cast Recording, Fathoms Below - Broadway Cast Recording:  conf = 1.0, sup = 0.6\n",
            "The World Above - Broadway Cast Recording, Ant =Circles ---> Cons=Daughters Of Triton - Broadway Cast Recording, Fathoms Below - Broadway Cast Recording:  conf = 1.0, sup = 0.6\n",
            "Fathoms Below - Broadway Cast Recording, Ant =Circles ---> Cons=The World Above - Broadway Cast Recording, Daughters Of Triton - Broadway Cast Recording:  conf = 1.0, sup = 0.6\n"
          ]
        }
      ]
    },
    {
      "cell_type": "code",
      "metadata": {
        "colab": {
          "base_uri": "https://localhost:8080/"
        },
        "id": "P7kVMhjgqg6p",
        "outputId": "a0f20b52-491f-43e7-cfee-b7c50f561645"
      },
      "source": [
        "Nombre_Archivo = 'spotify.npy'\n",
        "dataSet = np.load(Nombre_Archivo, allow_pickle=True)\n",
        "dataSet=list(dataSet.tolist().values())[11700:11730]\n",
        "dataSet=[i[0:5] for i in dataSet]\n",
        "dataSet\n",
        "\n",
        "#Programa Principal\n",
        "#lista de transacciones; cada transacción es una lista de artículos\n",
        "dataset = load_dataset() \n",
        "# conjunto de transacciones; cada transacción es una lista de artículo\n",
        "D = list(map(set, dataset)) \n",
        "\n",
        "\n",
        "Frecuent_Item_Sets, Datos_De_Soporte = generate_association_rules(dataset,Min_Sup=0.6, Bandera=True)\n",
        "# Genere las reglas de asociación a partir de una lista de conjuntos de elementos frecuentes.\n",
        "H = generate_Reglas(Frecuent_Item_Sets, Datos_De_Soporte, Min_Conf=0.8, Bandera=True)"
      ],
      "execution_count": 216,
      "outputs": [
        {
          "output_type": "stream",
          "name": "stdout",
          "text": [
            "Fathoms Below - Broadway Cast Recording ---> Cons=Daughters Of Triton - Broadway Cast Recording:  conf = 1.0, sup = 0.8\n",
            "Daughters Of Triton - Broadway Cast Recording ---> Cons=Fathoms Below - Broadway Cast Recording:  conf = 1.0, sup = 0.8\n",
            "Daughters Of Triton - Broadway Cast Recording ---> Cons=The World Above - Broadway Cast Recording:  conf = 1.0, sup = 0.8\n",
            "The World Above - Broadway Cast Recording ---> Cons=Daughters Of Triton - Broadway Cast Recording:  conf = 1.0, sup = 0.8\n",
            "Fathoms Below - Broadway Cast Recording ---> Cons=The World Above - Broadway Cast Recording:  conf = 1.0, sup = 0.8\n",
            "The World Above - Broadway Cast Recording ---> Cons=Fathoms Below - Broadway Cast Recording:  conf = 1.0, sup = 0.8\n",
            "Daughters Of Triton - Broadway Cast Recording, Ant =Fathoms Below - Broadway Cast Recording ---> Cons=The World Above - Broadway Cast Recording:  conf = 1.0, sup = 0.8\n",
            "The World Above - Broadway Cast Recording, Ant =Fathoms Below - Broadway Cast Recording ---> Cons=Daughters Of Triton - Broadway Cast Recording:  conf = 1.0, sup = 0.8\n",
            "The World Above - Broadway Cast Recording, Ant =Daughters Of Triton - Broadway Cast Recording ---> Cons=Fathoms Below - Broadway Cast Recording:  conf = 1.0, sup = 0.8\n",
            "Fathoms Below - Broadway Cast Recording ---> Cons=The World Above - Broadway Cast Recording, Daughters Of Triton - Broadway Cast Recording:  conf = 1.0, sup = 0.8\n",
            "Daughters Of Triton - Broadway Cast Recording ---> Cons=The World Above - Broadway Cast Recording, Fathoms Below - Broadway Cast Recording:  conf = 1.0, sup = 0.8\n",
            "The World Above - Broadway Cast Recording ---> Cons=Daughters Of Triton - Broadway Cast Recording, Fathoms Below - Broadway Cast Recording:  conf = 1.0, sup = 0.8\n",
            "Fathoms Below - Broadway Cast Recording, Ant =Circles ---> Cons=The World Above - Broadway Cast Recording:  conf = 1.0, sup = 0.6\n",
            "The World Above - Broadway Cast Recording, Ant =Circles ---> Cons=Fathoms Below - Broadway Cast Recording:  conf = 1.0, sup = 0.6\n",
            "Daughters Of Triton - Broadway Cast Recording, Ant =Circles ---> Cons=The World Above - Broadway Cast Recording:  conf = 1.0, sup = 0.6\n",
            "The World Above - Broadway Cast Recording, Ant =Circles ---> Cons=Daughters Of Triton - Broadway Cast Recording:  conf = 1.0, sup = 0.6\n",
            "Fathoms Below - Broadway Cast Recording, Ant =Circles ---> Cons=Daughters Of Triton - Broadway Cast Recording:  conf = 1.0, sup = 0.6\n",
            "Daughters Of Triton - Broadway Cast Recording, Ant =Circles ---> Cons=Fathoms Below - Broadway Cast Recording:  conf = 1.0, sup = 0.6\n",
            "The World Above - Broadway Cast Recording, Ant =Daughters Of Triton - Broadway Cast Recording, Ant =Circles ---> Cons=Fathoms Below - Broadway Cast Recording:  conf = 1.0, sup = 0.6\n",
            "Daughters Of Triton - Broadway Cast Recording, Ant =Fathoms Below - Broadway Cast Recording, Ant =Circles ---> Cons=The World Above - Broadway Cast Recording:  conf = 1.0, sup = 0.6\n",
            "The World Above - Broadway Cast Recording, Ant =Fathoms Below - Broadway Cast Recording, Ant =Circles ---> Cons=Daughters Of Triton - Broadway Cast Recording:  conf = 1.0, sup = 0.6\n",
            "Daughters Of Triton - Broadway Cast Recording, Ant =Circles ---> Cons=The World Above - Broadway Cast Recording, Fathoms Below - Broadway Cast Recording:  conf = 1.0, sup = 0.6\n",
            "The World Above - Broadway Cast Recording, Ant =Circles ---> Cons=Daughters Of Triton - Broadway Cast Recording, Fathoms Below - Broadway Cast Recording:  conf = 1.0, sup = 0.6\n",
            "Fathoms Below - Broadway Cast Recording, Ant =Circles ---> Cons=The World Above - Broadway Cast Recording, Daughters Of Triton - Broadway Cast Recording:  conf = 1.0, sup = 0.6\n"
          ]
        }
      ]
    },
    {
      "cell_type": "markdown",
      "metadata": {
        "id": "j1JCYFQVj0Kg"
      },
      "source": [
        "#Explicar las reglas obtenidas"
      ]
    },
    {
      "cell_type": "markdown",
      "metadata": {
        "id": "yDZTo-dZj-o1"
      },
      "source": [
        "Los resultados obtenidos nos muestran que varias de esas canciones(Antecedentes) estan relacionadas con otras(Consecuentes) por lo cual se debe agrupar dichas canciones dentro de un solo grupo para que la aplicacion de musica sea mas amigable"
      ]
    },
    {
      "cell_type": "markdown",
      "metadata": {
        "id": "CwST3wrFpUMk"
      },
      "source": [
        "Analizamos 2 reglas aleatoriamente"
      ]
    },
    {
      "cell_type": "markdown",
      "metadata": {
        "id": "_FddMO6gpYgH"
      },
      "source": [
        "Analisis de regla 1\n",
        "\n",
        "> Ant =The World Above - Broadway Cast Recording ---> Cons=Fathoms Below - Broadway Cast Recording:  conf = 1.0, sup = 0.8\n",
        "\n",
        "\n",
        "\n",
        "1.   Ambas son canciones para niños\n",
        "2.   Ambas pertenecen a peliculas animadas de disney y son recitales\n",
        "3.   Ambas estan en ingles\n",
        "4.   El 'soporte' de un conjunto de items X en una base de datos C se define como la proporción de transacciones en la base de datos que contiene dicho conjunto de items EL numero 1 nos indica que esa cancion esta en el total de las playlists.\n",
        "5.   La regla \n",
        "\n",
        "\n",
        "```\n",
        "Ant =The World Above - Broadway Cast Recording--->Cons=Fathoms Below - Broadway Cast Recording: nso*\n",
        "\n",
        "```\n",
        "se encuentra en el 80% de las muestras\n",
        "\n",
        "\n",
        "\n",
        "\n",
        "\n"
      ]
    },
    {
      "cell_type": "markdown",
      "metadata": {
        "id": "gGH4R42RqOqj"
      },
      "source": [
        "Analisis de regla 2\n",
        "\n",
        "> Ant =Daughters Of Triton - Broadway Cast Recording, Circles ---> Cons=The World Above - Broadway Cast Recording, Fathoms Below - Broadway Cast Recording:  conf = 1.0, sup = 0.6\n",
        "\n",
        "\n",
        "\n",
        "1.   Ambas son recitales de Broadway\n",
        "2.   Ambas estan en ingles\n",
        "3.   El 'soporte' de un conjunto de items X en una base de datos C se define como la proporción de transacciones en la base de datos que contiene dicho conjunto de items EL numero 1 nos indica que esa cancion esta en el total de las playlists.\n",
        "4.   La regla \n",
        "\n",
        "\n",
        "```\n",
        "Ant =Daughters Of Triton - Broadway Cast Recording, Circles ---> Cons=The World Above - Broadway Cast Recording, Fathoms Below - Broadway Cast Recording:  conf = 1.0, sup = 0.6\n",
        "\n",
        "```\n",
        "se encuentra en el 80% de las muestras"
      ]
    }
  ]
}